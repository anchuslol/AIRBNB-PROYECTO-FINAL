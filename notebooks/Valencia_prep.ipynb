{
 "cells": [
  {
   "cell_type": "code",
   "execution_count": 1,
   "id": "46852862",
   "metadata": {},
   "outputs": [],
   "source": [
    "import pandas as pd "
   ]
  },
  {
   "cell_type": "code",
   "execution_count": 2,
   "id": "6dcdf0b7",
   "metadata": {},
   "outputs": [],
   "source": [
    "df = pd.read_csv(r'../data\\listings_Valencia.csv')"
   ]
  },
  {
   "cell_type": "code",
   "execution_count": 3,
   "id": "9ff5f262",
   "metadata": {},
   "outputs": [],
   "source": [
    "#Añadimos una columna llamada ciudad\n",
    "df['city'] = 'Valencia'"
   ]
  },
  {
   "cell_type": "code",
   "execution_count": 4,
   "id": "94756b33",
   "metadata": {},
   "outputs": [
    {
     "data": {
      "text/plain": [
       "Index(['id', 'listing_url', 'scrape_id', 'last_scraped', 'source', 'name',\n",
       "       'description', 'neighborhood_overview', 'picture_url', 'host_id',\n",
       "       'host_url', 'host_name', 'host_since', 'host_location', 'host_about',\n",
       "       'host_response_time', 'host_response_rate', 'host_acceptance_rate',\n",
       "       'host_is_superhost', 'host_thumbnail_url', 'host_picture_url',\n",
       "       'host_neighbourhood', 'host_listings_count',\n",
       "       'host_total_listings_count', 'host_verifications',\n",
       "       'host_has_profile_pic', 'host_identity_verified', 'neighbourhood',\n",
       "       'neighbourhood_cleansed', 'neighbourhood_group_cleansed', 'latitude',\n",
       "       'longitude', 'property_type', 'room_type', 'accommodates', 'bathrooms',\n",
       "       'bathrooms_text', 'bedrooms', 'beds', 'amenities', 'price',\n",
       "       'minimum_nights', 'maximum_nights', 'minimum_minimum_nights',\n",
       "       'maximum_minimum_nights', 'minimum_maximum_nights',\n",
       "       'maximum_maximum_nights', 'minimum_nights_avg_ntm',\n",
       "       'maximum_nights_avg_ntm', 'calendar_updated', 'has_availability',\n",
       "       'availability_30', 'availability_60', 'availability_90',\n",
       "       'availability_365', 'calendar_last_scraped', 'number_of_reviews',\n",
       "       'number_of_reviews_ltm', 'number_of_reviews_l30d', 'availability_eoy',\n",
       "       'number_of_reviews_ly', 'estimated_occupancy_l365d',\n",
       "       'estimated_revenue_l365d', 'first_review', 'last_review',\n",
       "       'review_scores_rating', 'review_scores_accuracy',\n",
       "       'review_scores_cleanliness', 'review_scores_checkin',\n",
       "       'review_scores_communication', 'review_scores_location',\n",
       "       'review_scores_value', 'license', 'instant_bookable',\n",
       "       'calculated_host_listings_count',\n",
       "       'calculated_host_listings_count_entire_homes',\n",
       "       'calculated_host_listings_count_private_rooms',\n",
       "       'calculated_host_listings_count_shared_rooms', 'reviews_per_month',\n",
       "       'city'],\n",
       "      dtype='object')"
      ]
     },
     "execution_count": 4,
     "metadata": {},
     "output_type": "execute_result"
    }
   ],
   "source": [
    "df.columns"
   ]
  },
  {
   "cell_type": "code",
   "execution_count": 5,
   "id": "c06b389e",
   "metadata": {},
   "outputs": [],
   "source": [
    "df = df.drop(columns=['neighbourhood', 'neighbourhood_group'], errors='ignore')\n"
   ]
  },
  {
   "cell_type": "code",
   "execution_count": 6,
   "id": "950fe648",
   "metadata": {},
   "outputs": [],
   "source": [
    "# Renombrar columnas para consistencia\n",
    "\n",
    "df = df.rename(columns={\n",
    "    'neighbourhood_group_cleansed': 'neighbourhood_group',\n",
    "    'neighbourhood_cleansed': 'neighbourhood'\n",
    "})\n",
    " "
   ]
  },
  {
   "cell_type": "code",
   "execution_count": 7,
   "id": "15b713dc",
   "metadata": {},
   "outputs": [
    {
     "data": {
      "text/plain": [
       "Index(['id', 'listing_url', 'scrape_id', 'last_scraped', 'source', 'name',\n",
       "       'description', 'neighborhood_overview', 'picture_url', 'host_id',\n",
       "       'host_url', 'host_name', 'host_since', 'host_location', 'host_about',\n",
       "       'host_response_time', 'host_response_rate', 'host_acceptance_rate',\n",
       "       'host_is_superhost', 'host_thumbnail_url', 'host_picture_url',\n",
       "       'host_neighbourhood', 'host_listings_count',\n",
       "       'host_total_listings_count', 'host_verifications',\n",
       "       'host_has_profile_pic', 'host_identity_verified', 'neighbourhood',\n",
       "       'neighbourhood_group', 'latitude', 'longitude', 'property_type',\n",
       "       'room_type', 'accommodates', 'bathrooms', 'bathrooms_text', 'bedrooms',\n",
       "       'beds', 'amenities', 'price', 'minimum_nights', 'maximum_nights',\n",
       "       'minimum_minimum_nights', 'maximum_minimum_nights',\n",
       "       'minimum_maximum_nights', 'maximum_maximum_nights',\n",
       "       'minimum_nights_avg_ntm', 'maximum_nights_avg_ntm', 'calendar_updated',\n",
       "       'has_availability', 'availability_30', 'availability_60',\n",
       "       'availability_90', 'availability_365', 'calendar_last_scraped',\n",
       "       'number_of_reviews', 'number_of_reviews_ltm', 'number_of_reviews_l30d',\n",
       "       'availability_eoy', 'number_of_reviews_ly', 'estimated_occupancy_l365d',\n",
       "       'estimated_revenue_l365d', 'first_review', 'last_review',\n",
       "       'review_scores_rating', 'review_scores_accuracy',\n",
       "       'review_scores_cleanliness', 'review_scores_checkin',\n",
       "       'review_scores_communication', 'review_scores_location',\n",
       "       'review_scores_value', 'license', 'instant_bookable',\n",
       "       'calculated_host_listings_count',\n",
       "       'calculated_host_listings_count_entire_homes',\n",
       "       'calculated_host_listings_count_private_rooms',\n",
       "       'calculated_host_listings_count_shared_rooms', 'reviews_per_month',\n",
       "       'city'],\n",
       "      dtype='object')"
      ]
     },
     "execution_count": 7,
     "metadata": {},
     "output_type": "execute_result"
    }
   ],
   "source": [
    "df.columns"
   ]
  },
  {
   "cell_type": "code",
   "execution_count": 8,
   "id": "9b93268f",
   "metadata": {},
   "outputs": [
    {
     "data": {
      "text/html": [
       "<div>\n",
       "<style scoped>\n",
       "    .dataframe tbody tr th:only-of-type {\n",
       "        vertical-align: middle;\n",
       "    }\n",
       "\n",
       "    .dataframe tbody tr th {\n",
       "        vertical-align: top;\n",
       "    }\n",
       "\n",
       "    .dataframe thead th {\n",
       "        text-align: right;\n",
       "    }\n",
       "</style>\n",
       "<table border=\"1\" class=\"dataframe\">\n",
       "  <thead>\n",
       "    <tr style=\"text-align: right;\">\n",
       "      <th></th>\n",
       "      <th>id</th>\n",
       "      <th>listing_url</th>\n",
       "      <th>scrape_id</th>\n",
       "      <th>last_scraped</th>\n",
       "      <th>source</th>\n",
       "      <th>name</th>\n",
       "      <th>description</th>\n",
       "      <th>neighborhood_overview</th>\n",
       "      <th>picture_url</th>\n",
       "      <th>host_id</th>\n",
       "      <th>host_url</th>\n",
       "      <th>host_name</th>\n",
       "      <th>host_since</th>\n",
       "      <th>host_location</th>\n",
       "      <th>host_about</th>\n",
       "      <th>host_response_time</th>\n",
       "      <th>host_response_rate</th>\n",
       "      <th>host_acceptance_rate</th>\n",
       "      <th>host_is_superhost</th>\n",
       "      <th>host_thumbnail_url</th>\n",
       "      <th>host_picture_url</th>\n",
       "      <th>host_neighbourhood</th>\n",
       "      <th>host_listings_count</th>\n",
       "      <th>host_total_listings_count</th>\n",
       "      <th>host_verifications</th>\n",
       "      <th>host_has_profile_pic</th>\n",
       "      <th>host_identity_verified</th>\n",
       "      <th>neighbourhood</th>\n",
       "      <th>neighbourhood_group</th>\n",
       "      <th>latitude</th>\n",
       "      <th>longitude</th>\n",
       "      <th>property_type</th>\n",
       "      <th>room_type</th>\n",
       "      <th>accommodates</th>\n",
       "      <th>bathrooms</th>\n",
       "      <th>bathrooms_text</th>\n",
       "      <th>bedrooms</th>\n",
       "      <th>beds</th>\n",
       "      <th>amenities</th>\n",
       "      <th>price</th>\n",
       "      <th>minimum_nights</th>\n",
       "      <th>maximum_nights</th>\n",
       "      <th>minimum_minimum_nights</th>\n",
       "      <th>maximum_minimum_nights</th>\n",
       "      <th>minimum_maximum_nights</th>\n",
       "      <th>maximum_maximum_nights</th>\n",
       "      <th>minimum_nights_avg_ntm</th>\n",
       "      <th>maximum_nights_avg_ntm</th>\n",
       "      <th>calendar_updated</th>\n",
       "      <th>has_availability</th>\n",
       "      <th>availability_30</th>\n",
       "      <th>availability_60</th>\n",
       "      <th>availability_90</th>\n",
       "      <th>availability_365</th>\n",
       "      <th>calendar_last_scraped</th>\n",
       "      <th>number_of_reviews</th>\n",
       "      <th>number_of_reviews_ltm</th>\n",
       "      <th>number_of_reviews_l30d</th>\n",
       "      <th>availability_eoy</th>\n",
       "      <th>number_of_reviews_ly</th>\n",
       "      <th>estimated_occupancy_l365d</th>\n",
       "      <th>estimated_revenue_l365d</th>\n",
       "      <th>first_review</th>\n",
       "      <th>last_review</th>\n",
       "      <th>review_scores_rating</th>\n",
       "      <th>review_scores_accuracy</th>\n",
       "      <th>review_scores_cleanliness</th>\n",
       "      <th>review_scores_checkin</th>\n",
       "      <th>review_scores_communication</th>\n",
       "      <th>review_scores_location</th>\n",
       "      <th>review_scores_value</th>\n",
       "      <th>license</th>\n",
       "      <th>instant_bookable</th>\n",
       "      <th>calculated_host_listings_count</th>\n",
       "      <th>calculated_host_listings_count_entire_homes</th>\n",
       "      <th>calculated_host_listings_count_private_rooms</th>\n",
       "      <th>calculated_host_listings_count_shared_rooms</th>\n",
       "      <th>reviews_per_month</th>\n",
       "      <th>city</th>\n",
       "    </tr>\n",
       "  </thead>\n",
       "  <tbody>\n",
       "    <tr>\n",
       "      <th>0</th>\n",
       "      <td>922483078848880362</td>\n",
       "      <td>https://www.airbnb.com/rooms/922483078848880362</td>\n",
       "      <td>20250315152909</td>\n",
       "      <td>2025-03-15</td>\n",
       "      <td>city scrape</td>\n",
       "      <td>piso acogedor</td>\n",
       "      <td>This place has a strategic location: a 5-minut...</td>\n",
       "      <td>NaN</td>\n",
       "      <td>https://a0.muscache.com/pictures/7ace9e77-5619...</td>\n",
       "      <td>20512920</td>\n",
       "      <td>https://www.airbnb.com/users/show/20512920</td>\n",
       "      <td>Floren</td>\n",
       "      <td>2014-08-25</td>\n",
       "      <td>Valencia, Spain</td>\n",
       "      <td>Me gusta mucho viajar, he visitado ciudades eu...</td>\n",
       "      <td>within a few hours</td>\n",
       "      <td>100%</td>\n",
       "      <td>47%</td>\n",
       "      <td>f</td>\n",
       "      <td>https://a0.muscache.com/im/users/20512920/prof...</td>\n",
       "      <td>https://a0.muscache.com/im/users/20512920/prof...</td>\n",
       "      <td>NaN</td>\n",
       "      <td>1</td>\n",
       "      <td>2</td>\n",
       "      <td>['email', 'phone']</td>\n",
       "      <td>t</td>\n",
       "      <td>t</td>\n",
       "      <td>RUSSAFA</td>\n",
       "      <td>L'EIXAMPLE</td>\n",
       "      <td>39.463599</td>\n",
       "      <td>-0.374307</td>\n",
       "      <td>Entire rental unit</td>\n",
       "      <td>Entire home/apt</td>\n",
       "      <td>4</td>\n",
       "      <td>1.0</td>\n",
       "      <td>1 bath</td>\n",
       "      <td>2.0</td>\n",
       "      <td>2.0</td>\n",
       "      <td>[\"Wifi\", \"Air conditioning\", \"Fire extinguishe...</td>\n",
       "      <td>$143.00</td>\n",
       "      <td>2</td>\n",
       "      <td>365</td>\n",
       "      <td>1</td>\n",
       "      <td>2</td>\n",
       "      <td>365</td>\n",
       "      <td>365</td>\n",
       "      <td>2.0</td>\n",
       "      <td>365.0</td>\n",
       "      <td>NaN</td>\n",
       "      <td>t</td>\n",
       "      <td>3</td>\n",
       "      <td>4</td>\n",
       "      <td>4</td>\n",
       "      <td>77</td>\n",
       "      <td>2025-03-15</td>\n",
       "      <td>9</td>\n",
       "      <td>5</td>\n",
       "      <td>0</td>\n",
       "      <td>4</td>\n",
       "      <td>5</td>\n",
       "      <td>30</td>\n",
       "      <td>4290.0</td>\n",
       "      <td>2023-08-08</td>\n",
       "      <td>2024-12-03</td>\n",
       "      <td>4.78</td>\n",
       "      <td>4.78</td>\n",
       "      <td>4.44</td>\n",
       "      <td>4.89</td>\n",
       "      <td>4.89</td>\n",
       "      <td>5.00</td>\n",
       "      <td>4.56</td>\n",
       "      <td>NaN</td>\n",
       "      <td>f</td>\n",
       "      <td>1</td>\n",
       "      <td>1</td>\n",
       "      <td>0</td>\n",
       "      <td>0</td>\n",
       "      <td>0.46</td>\n",
       "      <td>Valencia</td>\n",
       "    </tr>\n",
       "    <tr>\n",
       "      <th>1</th>\n",
       "      <td>968111902707427537</td>\n",
       "      <td>https://www.airbnb.com/rooms/968111902707427537</td>\n",
       "      <td>20250315152909</td>\n",
       "      <td>2025-03-16</td>\n",
       "      <td>city scrape</td>\n",
       "      <td>#2 Soho By The Sea. Beach studio</td>\n",
       "      <td>Welcome to our unique studio in the heart of C...</td>\n",
       "      <td>NaN</td>\n",
       "      <td>https://a0.muscache.com/pictures/9fe7cdd9-2ad9...</td>\n",
       "      <td>512484841</td>\n",
       "      <td>https://www.airbnb.com/users/show/512484841</td>\n",
       "      <td>Ivaylo</td>\n",
       "      <td>2023-04-30</td>\n",
       "      <td>Valencia, Spain</td>\n",
       "      <td>NaN</td>\n",
       "      <td>within an hour</td>\n",
       "      <td>100%</td>\n",
       "      <td>99%</td>\n",
       "      <td>t</td>\n",
       "      <td>https://a0.muscache.com/im/pictures/user/User-...</td>\n",
       "      <td>https://a0.muscache.com/im/pictures/user/User-...</td>\n",
       "      <td>NaN</td>\n",
       "      <td>6</td>\n",
       "      <td>6</td>\n",
       "      <td>['email', 'phone']</td>\n",
       "      <td>t</td>\n",
       "      <td>t</td>\n",
       "      <td>CABANYAL-CANYAMELAR</td>\n",
       "      <td>POBLATS MARITIMS</td>\n",
       "      <td>39.470366</td>\n",
       "      <td>-0.329770</td>\n",
       "      <td>Entire rental unit</td>\n",
       "      <td>Entire home/apt</td>\n",
       "      <td>2</td>\n",
       "      <td>1.0</td>\n",
       "      <td>1 bath</td>\n",
       "      <td>1.0</td>\n",
       "      <td>2.0</td>\n",
       "      <td>[\"AC - split type ductless system\", \"Smoke ala...</td>\n",
       "      <td>$109.00</td>\n",
       "      <td>4</td>\n",
       "      <td>365</td>\n",
       "      <td>3</td>\n",
       "      <td>4</td>\n",
       "      <td>1125</td>\n",
       "      <td>1125</td>\n",
       "      <td>4.0</td>\n",
       "      <td>1125.0</td>\n",
       "      <td>NaN</td>\n",
       "      <td>t</td>\n",
       "      <td>30</td>\n",
       "      <td>60</td>\n",
       "      <td>90</td>\n",
       "      <td>180</td>\n",
       "      <td>2025-03-16</td>\n",
       "      <td>30</td>\n",
       "      <td>15</td>\n",
       "      <td>0</td>\n",
       "      <td>180</td>\n",
       "      <td>17</td>\n",
       "      <td>120</td>\n",
       "      <td>13080.0</td>\n",
       "      <td>2023-09-03</td>\n",
       "      <td>2024-08-27</td>\n",
       "      <td>4.87</td>\n",
       "      <td>4.80</td>\n",
       "      <td>4.83</td>\n",
       "      <td>4.97</td>\n",
       "      <td>5.00</td>\n",
       "      <td>4.87</td>\n",
       "      <td>4.67</td>\n",
       "      <td>NaN</td>\n",
       "      <td>f</td>\n",
       "      <td>5</td>\n",
       "      <td>5</td>\n",
       "      <td>0</td>\n",
       "      <td>0</td>\n",
       "      <td>1.60</td>\n",
       "      <td>Valencia</td>\n",
       "    </tr>\n",
       "  </tbody>\n",
       "</table>\n",
       "</div>"
      ],
      "text/plain": [
       "                   id                                      listing_url  \\\n",
       "0  922483078848880362  https://www.airbnb.com/rooms/922483078848880362   \n",
       "1  968111902707427537  https://www.airbnb.com/rooms/968111902707427537   \n",
       "\n",
       "        scrape_id last_scraped       source                              name  \\\n",
       "0  20250315152909   2025-03-15  city scrape                     piso acogedor   \n",
       "1  20250315152909   2025-03-16  city scrape  #2 Soho By The Sea. Beach studio   \n",
       "\n",
       "                                         description neighborhood_overview  \\\n",
       "0  This place has a strategic location: a 5-minut...                   NaN   \n",
       "1  Welcome to our unique studio in the heart of C...                   NaN   \n",
       "\n",
       "                                         picture_url    host_id  \\\n",
       "0  https://a0.muscache.com/pictures/7ace9e77-5619...   20512920   \n",
       "1  https://a0.muscache.com/pictures/9fe7cdd9-2ad9...  512484841   \n",
       "\n",
       "                                      host_url host_name  host_since  \\\n",
       "0   https://www.airbnb.com/users/show/20512920    Floren  2014-08-25   \n",
       "1  https://www.airbnb.com/users/show/512484841    Ivaylo  2023-04-30   \n",
       "\n",
       "     host_location                                         host_about  \\\n",
       "0  Valencia, Spain  Me gusta mucho viajar, he visitado ciudades eu...   \n",
       "1  Valencia, Spain                                                NaN   \n",
       "\n",
       "   host_response_time host_response_rate host_acceptance_rate  \\\n",
       "0  within a few hours               100%                  47%   \n",
       "1      within an hour               100%                  99%   \n",
       "\n",
       "  host_is_superhost                                 host_thumbnail_url  \\\n",
       "0                 f  https://a0.muscache.com/im/users/20512920/prof...   \n",
       "1                 t  https://a0.muscache.com/im/pictures/user/User-...   \n",
       "\n",
       "                                    host_picture_url host_neighbourhood  \\\n",
       "0  https://a0.muscache.com/im/users/20512920/prof...                NaN   \n",
       "1  https://a0.muscache.com/im/pictures/user/User-...                NaN   \n",
       "\n",
       "   host_listings_count  host_total_listings_count  host_verifications  \\\n",
       "0                    1                          2  ['email', 'phone']   \n",
       "1                    6                          6  ['email', 'phone']   \n",
       "\n",
       "  host_has_profile_pic host_identity_verified        neighbourhood  \\\n",
       "0                    t                      t              RUSSAFA   \n",
       "1                    t                      t  CABANYAL-CANYAMELAR   \n",
       "\n",
       "  neighbourhood_group   latitude  longitude       property_type  \\\n",
       "0          L'EIXAMPLE  39.463599  -0.374307  Entire rental unit   \n",
       "1    POBLATS MARITIMS  39.470366  -0.329770  Entire rental unit   \n",
       "\n",
       "         room_type  accommodates  bathrooms bathrooms_text  bedrooms  beds  \\\n",
       "0  Entire home/apt             4        1.0         1 bath       2.0   2.0   \n",
       "1  Entire home/apt             2        1.0         1 bath       1.0   2.0   \n",
       "\n",
       "                                           amenities    price  minimum_nights  \\\n",
       "0  [\"Wifi\", \"Air conditioning\", \"Fire extinguishe...  $143.00               2   \n",
       "1  [\"AC - split type ductless system\", \"Smoke ala...  $109.00               4   \n",
       "\n",
       "   maximum_nights  minimum_minimum_nights  maximum_minimum_nights  \\\n",
       "0             365                       1                       2   \n",
       "1             365                       3                       4   \n",
       "\n",
       "   minimum_maximum_nights  maximum_maximum_nights  minimum_nights_avg_ntm  \\\n",
       "0                     365                     365                     2.0   \n",
       "1                    1125                    1125                     4.0   \n",
       "\n",
       "   maximum_nights_avg_ntm  calendar_updated has_availability  availability_30  \\\n",
       "0                   365.0               NaN                t                3   \n",
       "1                  1125.0               NaN                t               30   \n",
       "\n",
       "   availability_60  availability_90  availability_365 calendar_last_scraped  \\\n",
       "0                4                4                77            2025-03-15   \n",
       "1               60               90               180            2025-03-16   \n",
       "\n",
       "   number_of_reviews  number_of_reviews_ltm  number_of_reviews_l30d  \\\n",
       "0                  9                      5                       0   \n",
       "1                 30                     15                       0   \n",
       "\n",
       "   availability_eoy  number_of_reviews_ly  estimated_occupancy_l365d  \\\n",
       "0                 4                     5                         30   \n",
       "1               180                    17                        120   \n",
       "\n",
       "   estimated_revenue_l365d first_review last_review  review_scores_rating  \\\n",
       "0                   4290.0   2023-08-08  2024-12-03                  4.78   \n",
       "1                  13080.0   2023-09-03  2024-08-27                  4.87   \n",
       "\n",
       "   review_scores_accuracy  review_scores_cleanliness  review_scores_checkin  \\\n",
       "0                    4.78                       4.44                   4.89   \n",
       "1                    4.80                       4.83                   4.97   \n",
       "\n",
       "   review_scores_communication  review_scores_location  review_scores_value  \\\n",
       "0                         4.89                    5.00                 4.56   \n",
       "1                         5.00                    4.87                 4.67   \n",
       "\n",
       "  license instant_bookable  calculated_host_listings_count  \\\n",
       "0     NaN                f                               1   \n",
       "1     NaN                f                               5   \n",
       "\n",
       "   calculated_host_listings_count_entire_homes  \\\n",
       "0                                            1   \n",
       "1                                            5   \n",
       "\n",
       "   calculated_host_listings_count_private_rooms  \\\n",
       "0                                             0   \n",
       "1                                             0   \n",
       "\n",
       "   calculated_host_listings_count_shared_rooms  reviews_per_month      city  \n",
       "0                                            0               0.46  Valencia  \n",
       "1                                            0               1.60  Valencia  "
      ]
     },
     "execution_count": 8,
     "metadata": {},
     "output_type": "execute_result"
    }
   ],
   "source": [
    "pd.set_option('display.max_columns', None)\n",
    "pd.set_option('display.max_rows', None)\n",
    "df.head(2)"
   ]
  },
  {
   "cell_type": "markdown",
   "id": "7f1b629b",
   "metadata": {},
   "source": [
    "#### CAMBIO DE TIPOS"
   ]
  },
  {
   "cell_type": "code",
   "execution_count": 9,
   "id": "3ed0fc1d",
   "metadata": {},
   "outputs": [
    {
     "data": {
      "text/plain": [
       "id                                                int64\n",
       "listing_url                                      object\n",
       "scrape_id                                         int64\n",
       "last_scraped                                     object\n",
       "source                                           object\n",
       "name                                             object\n",
       "description                                      object\n",
       "neighborhood_overview                            object\n",
       "picture_url                                      object\n",
       "host_id                                           int64\n",
       "host_url                                         object\n",
       "host_name                                        object\n",
       "host_since                                       object\n",
       "host_location                                    object\n",
       "host_about                                       object\n",
       "host_response_time                               object\n",
       "host_response_rate                               object\n",
       "host_acceptance_rate                             object\n",
       "host_is_superhost                                object\n",
       "host_thumbnail_url                               object\n",
       "host_picture_url                                 object\n",
       "host_neighbourhood                               object\n",
       "host_listings_count                               int64\n",
       "host_total_listings_count                         int64\n",
       "host_verifications                               object\n",
       "host_has_profile_pic                             object\n",
       "host_identity_verified                           object\n",
       "neighbourhood                                    object\n",
       "neighbourhood_group                              object\n",
       "latitude                                        float64\n",
       "longitude                                       float64\n",
       "property_type                                    object\n",
       "room_type                                        object\n",
       "accommodates                                      int64\n",
       "bathrooms                                       float64\n",
       "bathrooms_text                                   object\n",
       "bedrooms                                        float64\n",
       "beds                                            float64\n",
       "amenities                                        object\n",
       "price                                            object\n",
       "minimum_nights                                    int64\n",
       "maximum_nights                                    int64\n",
       "minimum_minimum_nights                            int64\n",
       "maximum_minimum_nights                            int64\n",
       "minimum_maximum_nights                            int64\n",
       "maximum_maximum_nights                            int64\n",
       "minimum_nights_avg_ntm                          float64\n",
       "maximum_nights_avg_ntm                          float64\n",
       "calendar_updated                                float64\n",
       "has_availability                                 object\n",
       "availability_30                                   int64\n",
       "availability_60                                   int64\n",
       "availability_90                                   int64\n",
       "availability_365                                  int64\n",
       "calendar_last_scraped                            object\n",
       "number_of_reviews                                 int64\n",
       "number_of_reviews_ltm                             int64\n",
       "number_of_reviews_l30d                            int64\n",
       "availability_eoy                                  int64\n",
       "number_of_reviews_ly                              int64\n",
       "estimated_occupancy_l365d                         int64\n",
       "estimated_revenue_l365d                         float64\n",
       "first_review                                     object\n",
       "last_review                                      object\n",
       "review_scores_rating                            float64\n",
       "review_scores_accuracy                          float64\n",
       "review_scores_cleanliness                       float64\n",
       "review_scores_checkin                           float64\n",
       "review_scores_communication                     float64\n",
       "review_scores_location                          float64\n",
       "review_scores_value                             float64\n",
       "license                                          object\n",
       "instant_bookable                                 object\n",
       "calculated_host_listings_count                    int64\n",
       "calculated_host_listings_count_entire_homes       int64\n",
       "calculated_host_listings_count_private_rooms      int64\n",
       "calculated_host_listings_count_shared_rooms       int64\n",
       "reviews_per_month                               float64\n",
       "city                                             object\n",
       "dtype: object"
      ]
     },
     "execution_count": 9,
     "metadata": {},
     "output_type": "execute_result"
    }
   ],
   "source": [
    "# lo primero que podemos comprobar es el tipo de dato de cada columna\n",
    "df.dtypes"
   ]
  },
  {
   "cell_type": "code",
   "execution_count": 10,
   "id": "3a6fe102",
   "metadata": {},
   "outputs": [],
   "source": [
    "#cambiamos lastreview de object a datetime\n",
    "df['last_review'] = pd.to_datetime(df['last_review'], errors='coerce')"
   ]
  },
  {
   "cell_type": "code",
   "execution_count": 11,
   "id": "06f9383c",
   "metadata": {},
   "outputs": [],
   "source": [
    "import matplotlib.pyplot as plt\n",
    "import seaborn as sns"
   ]
  },
  {
   "cell_type": "markdown",
   "id": "f77c7180",
   "metadata": {},
   "source": [
    "#### COMPROBACIÓN DE DATOS"
   ]
  },
  {
   "cell_type": "code",
   "execution_count": 12,
   "id": "8e4095a9",
   "metadata": {},
   "outputs": [
    {
     "data": {
      "text/plain": [
       "np.int64(0)"
      ]
     },
     "execution_count": 12,
     "metadata": {},
     "output_type": "execute_result"
    }
   ],
   "source": [
    "df.duplicated().sum() #comprueba si hay duplicados"
   ]
  },
  {
   "cell_type": "code",
   "execution_count": 13,
   "id": "5c5027ba",
   "metadata": {},
   "outputs": [
    {
     "name": "stdout",
     "output_type": "stream",
     "text": [
      "Duplicados parciales originales: 8833\n",
      "Duplicados eliminados, se conservan los de mayor precio: 160\n",
      "                             neighbourhood        room_type    price  \\\n",
      "6582                                 AIORA  Entire home/apt   5000.0   \n",
      "6781                                 AIORA     Private room    500.0   \n",
      "3925                                ALBORS  Entire home/apt    781.0   \n",
      "8472                                ALBORS     Private room    300.0   \n",
      "6713                           ARRANCAPINS  Entire home/apt    443.0   \n",
      "5560                           ARRANCAPINS     Private room    154.0   \n",
      "3438                             BENICALAP  Entire home/apt   9000.0   \n",
      "2521                             BENICALAP     Private room    190.0   \n",
      "3305                             BENIFERRI  Entire home/apt    176.0   \n",
      "2014                             BENIFERRI     Private room     70.0   \n",
      "2001                            BENIMACLET  Entire home/apt    377.0   \n",
      "2042                            BENIMACLET     Private room    200.0   \n",
      "2151                             BENIMAMET  Entire home/apt    246.0   \n",
      "3286                             BENIMAMET     Private room    103.0   \n",
      "5490                                BETERO  Entire home/apt    401.0   \n",
      "3561                                BETERO     Private room    160.0   \n",
      "7437                   CABANYAL-CANYAMELAR  Entire home/apt  10000.0   \n",
      "862                    CABANYAL-CANYAMELAR     Private room    201.0   \n",
      "2881                          CAMI DE VERA  Entire home/apt    191.0   \n",
      "2882                          CAMI DE VERA     Private room    150.0   \n",
      "3837                            CAMI FONDO  Entire home/apt  10000.0   \n",
      "2130                            CAMI FONDO     Private room    108.0   \n",
      "740                              CAMI REAL  Entire home/apt    233.0   \n",
      "2416                             CAMI REAL     Private room    130.0   \n",
      "3226                              CAMPANAR  Entire home/apt    424.0   \n",
      "611                               CAMPANAR     Private room    144.0   \n",
      "3718                               CARPESA  Entire home/apt    367.0   \n",
      "2017                  CASTELLAR-L'OLIVERAL  Entire home/apt    117.0   \n",
      "6486  CIUTAT DE LES ARTS I DE LES CIENCIES  Entire home/apt   3128.0   \n",
      "6087  CIUTAT DE LES ARTS I DE LES CIENCIES     Private room    191.0   \n",
      "6583                        CIUTAT FALLERA  Entire home/apt    245.0   \n",
      "2683                        CIUTAT FALLERA     Private room     89.0   \n",
      "1069                          CIUTAT JARDI  Entire home/apt    890.0   \n",
      "7732                          CIUTAT JARDI     Private room   1141.0   \n",
      "4347                  CIUTAT UNIVERSITARIA  Entire home/apt    240.0   \n",
      "7802                  CIUTAT UNIVERSITARIA     Private room     34.0   \n",
      "7599                            EL BOTANIC  Entire home/apt  10010.0   \n",
      "4147                            EL BOTANIC     Private room    165.0   \n",
      "6435                            EL CALVARI  Entire home/apt    129.0   \n",
      "1704                            EL CALVARI     Private room     80.0   \n",
      "1182                              EL CARME  Entire home/apt   9714.0   \n",
      "5909                              EL CARME     Private room    332.0   \n",
      "3580                      EL FORN D'ALCEDO  Entire home/apt    130.0   \n",
      "6880                               EL GRAU  Entire home/apt   9000.0   \n",
      "2248                               EL GRAU     Private room    280.0   \n",
      "6968                             EL MERCAT  Entire home/apt   5690.0   \n",
      "8165                             EL MERCAT     Private room   1040.0   \n",
      "1939                             EL PALMAR     Private room     53.0   \n",
      "3179                         EL PERELLONET  Entire home/apt    441.0   \n",
      "6709                              EL PILAR  Entire home/apt   1245.0   \n",
      "3036                              EL PILAR     Private room    260.0   \n",
      "8173                      EL PLA DEL REMEI  Entire home/apt   1706.0   \n",
      "6199                      EL PLA DEL REMEI     Private room    330.0   \n",
      "7601                              EL SALER  Entire home/apt   9450.0   \n",
      "1607                              EL SALER     Private room     44.0   \n",
      "1911                           ELS ORRIOLS  Entire home/apt    329.0   \n",
      "2731                           ELS ORRIOLS     Private room     94.0   \n",
      "5099                              EN CORTS  Entire home/apt    332.0   \n",
      "226                               EN CORTS       Hotel room     86.0   \n",
      "6777                              EN CORTS     Private room    151.0   \n",
      "6571                             EXPOSICIO  Entire home/apt    700.0   \n",
      "2281                             EXPOSICIO     Private room     68.0   \n",
      "3101                              FAITANAR     Private room    178.0   \n",
      "3272                                FAVARA  Entire home/apt    407.0   \n",
      "2711                                FAVARA     Private room    189.0   \n",
      "3526                            JAUME ROIG  Entire home/apt    332.0   \n",
      "1771                            JAUME ROIG     Private room     57.0   \n",
      "6339                             L'AMISTAT  Entire home/apt    354.0   \n",
      "7726                             L'AMISTAT     Private room   1000.0   \n",
      "654                      L'HORT DE SENABRE  Entire home/apt    379.0   \n",
      "2376                     L'HORT DE SENABRE     Private room    320.0   \n",
      "5084                        L'ILLA PERDUDA  Entire home/apt    370.0   \n",
      "7715                        L'ILLA PERDUDA     Private room     72.0   \n",
      "5266                           LA CARRASCA  Entire home/apt    297.0   \n",
      "8693                           LA CARRASCA       Hotel room    133.0   \n",
      "6609                           LA CARRASCA     Private room     90.0   \n",
      "2655                       LA CREU COBERTA  Entire home/apt    285.0   \n",
      "2658                       LA CREU COBERTA     Private room     88.0   \n",
      "1089                      LA CREU DEL GRAU  Entire home/apt    569.0   \n",
      "2185                      LA CREU DEL GRAU     Private room     92.0   \n",
      "7931                    LA FONTETA S.LLUIS  Entire home/apt    271.0   \n",
      "3996                    LA FONTETA S.LLUIS     Private room     57.0   \n",
      "3143                          LA FONTSANTA  Entire home/apt    115.0   \n",
      "1905                          LA FONTSANTA     Private room     58.0   \n",
      "8796                           LA GRAN VIA  Entire home/apt   7357.0   \n",
      "5897                           LA GRAN VIA     Private room    181.0   \n",
      "8636                               LA LLUM  Entire home/apt    164.0   \n",
      "2087                               LA LLUM     Private room     30.0   \n",
      "7598                         LA MALVA-ROSA  Entire home/apt  10000.0   \n",
      "1763                         LA MALVA-ROSA     Private room    300.0   \n",
      "6717                            LA PETXINA  Entire home/apt    904.0   \n",
      "2714                            LA PETXINA     Private room    240.0   \n",
      "1346                              LA PUNTA  Entire home/apt    450.0   \n",
      "6083                              LA PUNTA     Private room    151.0   \n",
      "3800                             LA RAIOSA  Entire home/apt    300.0   \n",
      "2898                             LA RAIOSA     Private room    204.0   \n",
      "8469                            LA ROQUETA  Entire home/apt    488.0   \n",
      "3829                            LA ROQUETA     Private room    400.0   \n",
      "5290                                LA SEU  Entire home/apt   2484.0   \n",
      "8126                                LA SEU     Private room    411.0   \n",
      "2423                              LA TORRE     Private room     50.0   \n",
      "5614                         LA VEGA BAIXA  Entire home/apt    274.0   \n",
      "4981                         LA VEGA BAIXA     Private room     90.0   \n",
      "6803                              LA XEREA  Entire home/apt    550.0   \n",
      "6174                              LA XEREA     Private room    237.0   \n",
      "2751                          LES TENDETES  Entire home/apt    222.0   \n",
      "1264                          LES TENDETES     Private room    257.0   \n",
      "1915                               MALILLA  Entire home/apt    293.0   \n",
      "3455                               MALILLA     Private room    264.0   \n",
      "1267                            MARXALENES  Entire home/apt    255.0   \n",
      "1261                            MARXALENES     Private room    270.0   \n",
      "3467                           MASSARROJOS  Entire home/apt    162.0   \n",
      "7873                              MESTALLA  Entire home/apt   9725.0   \n",
      "7735                              MESTALLA     Private room   1141.0   \n",
      "6485                           MONT-OLIVET  Entire home/apt    562.0   \n",
      "6773                           MONT-OLIVET     Private room    221.0   \n",
      "3225                              MORVEDRE  Entire home/apt    734.0   \n",
      "4420                              MORVEDRE     Private room    666.0   \n",
      "3606                            NA ROVELLA  Entire home/apt    534.0   \n",
      "6089                            NA ROVELLA     Private room    191.0   \n",
      "3798                              NATZARET  Entire home/apt    339.0   \n",
      "2041                              NATZARET     Private room     96.0   \n",
      "1937                             NOU MOLES  Entire home/apt   9143.0   \n",
      "2391                             NOU MOLES     Private room    350.0   \n",
      "656                                PATRAIX  Entire home/apt    352.0   \n",
      "8058                               PATRAIX     Private room    500.0   \n",
      "3016                            PENYA-ROJA  Entire home/apt  10000.0   \n",
      "7739                            PENYA-ROJA     Private room    261.0   \n",
      "3422                                PINEDO  Entire home/apt   3000.0   \n",
      "2079                             POBLE NOU     Private room     40.0   \n",
      "8157                               RUSSAFA  Entire home/apt   3234.0   \n",
      "542                                RUSSAFA       Hotel room    784.0   \n",
      "5701                               RUSSAFA     Private room    640.0   \n",
      "8321                               RUSSAFA      Shared room     49.0   \n",
      "7769                              SAFRANAR  Entire home/apt    155.0   \n",
      "2909                              SAFRANAR     Private room     83.0   \n",
      "3499                           SANT ANTONI  Entire home/apt    350.0   \n",
      "2133                           SANT ANTONI     Private room    240.0   \n",
      "6022                         SANT FRANCESC  Entire home/apt   1463.0   \n",
      "7724                         SANT FRANCESC     Private room    530.0   \n",
      "3525                           SANT ISIDRE  Entire home/apt    163.0   \n",
      "1678                           SANT ISIDRE     Private room     32.0   \n",
      "37                            SANT LLORENS  Entire home/apt   1967.0   \n",
      "2307                          SANT LLORENS     Private room     90.0   \n",
      "3749                        SANT MARCEL.LI  Entire home/apt    155.0   \n",
      "2773                        SANT MARCEL.LI     Private room     59.0   \n",
      "94                                SANT PAU  Entire home/apt   1350.0   \n",
      "2733                              SANT PAU     Private room    450.0   \n",
      "7488                              SOTERNES  Entire home/apt    281.0   \n",
      "2728                              SOTERNES     Private room     71.0   \n",
      "3760                                TORMOS  Entire home/apt   9429.0   \n",
      "2841                                TORMOS     Private room     77.0   \n",
      "3307                             TORREFIEL  Entire home/apt    203.0   \n",
      "2636                             TORREFIEL     Private room    205.0   \n",
      "3166                          TRES FORQUES  Entire home/apt    438.0   \n",
      "2173                          TRES FORQUES     Private room     66.0   \n",
      "5462                              TRINITAT  Entire home/apt    259.0   \n",
      "2236                              TRINITAT     Private room    130.0   \n",
      "3291                         VARA DE QUART  Entire home/apt    400.0   \n",
      "2371                         VARA DE QUART     Private room     34.0   \n",
      "\n",
      "                       id  \n",
      "6582  1204922127303011115  \n",
      "6781   690979477067877202  \n",
      "3925  1263604157301530703  \n",
      "8472             37271512  \n",
      "6713  1340605302664129182  \n",
      "5560  1288981134649819760  \n",
      "3438  1247552010202362239  \n",
      "2521  1076651690273499617  \n",
      "3305   566525329768869730  \n",
      "2014   841315117998368844  \n",
      "2001  1090285780079704900  \n",
      "2042             18021689  \n",
      "2151  1331223704117931532  \n",
      "3286             41880154  \n",
      "5490   846135811723097470  \n",
      "3561  1149067972014981276  \n",
      "7437  1001311733769012203  \n",
      "862   1250803956854861153  \n",
      "2881  1264640493107845186  \n",
      "2882  1266059850524379867  \n",
      "3837  1151849858667529365  \n",
      "2130  1363211919351490675  \n",
      "740   1076035301640630482  \n",
      "2416   833256191226937477  \n",
      "3226             50275950  \n",
      "611   1082437798119065002  \n",
      "3718   891348469795051729  \n",
      "2017  1027598775740969288  \n",
      "6486  1354968722607666832  \n",
      "6087  1082464564955838486  \n",
      "6583  1206690162057839779  \n",
      "2683  1146061316102969389  \n",
      "1069   569558183890025219  \n",
      "7732  1374696849337767638  \n",
      "4347  1213799308166964977  \n",
      "7802  1103414005909036617  \n",
      "7599  1375867193987001281  \n",
      "4147  1239866583039116466  \n",
      "6435             22117477  \n",
      "1704   863383709465615664  \n",
      "1182  1157108159166466166  \n",
      "5909   835508734331943968  \n",
      "3580  1347713752000976153  \n",
      "6880  1328363049009548073  \n",
      "2248             25973411  \n",
      "6968             19169309  \n",
      "8165  1092903608195745011  \n",
      "1939   720146541829459242  \n",
      "3179   777475737646298119  \n",
      "6709   889197288287760006  \n",
      "3036  1086733279498357111  \n",
      "8173             25360723  \n",
      "6199   820369387906288553  \n",
      "7601  1285512314449595271  \n",
      "1607   587622014881928335  \n",
      "1911  1215878839568324919  \n",
      "2731   791808395875201095  \n",
      "5099  1307960378331832627  \n",
      "226              38689672  \n",
      "6777             39502967  \n",
      "6571             43561404  \n",
      "2281  1081131876678908288  \n",
      "3101             39457483  \n",
      "3272  1126067649184153271  \n",
      "2711   667429245648594766  \n",
      "3526  1316193372138232162  \n",
      "1771             21478999  \n",
      "6339   899281734092597332  \n",
      "7726  1374758776194636433  \n",
      "654   1107803519915163783  \n",
      "2376  1354967727098861500  \n",
      "5084  1100702176603190060  \n",
      "7715             40281109  \n",
      "5266             43925035  \n",
      "8693             34670217  \n",
      "6609  1208089309681136650  \n",
      "2655  1018063891078278971  \n",
      "2658  1018053753494570883  \n",
      "1089   822410076643630079  \n",
      "2185  1082443030387420321  \n",
      "7931  1252676473146953888  \n",
      "3996  1366640404388292180  \n",
      "3143             53020930  \n",
      "1905  1005215183230371372  \n",
      "8796  1359821933242405893  \n",
      "5897  1068873270112013577  \n",
      "8636  1112321826791671092  \n",
      "2087  1350669354794739123  \n",
      "7598  1324406938651538664  \n",
      "1763             35506714  \n",
      "6717  1197968009021209966  \n",
      "2714             17050755  \n",
      "1346   910840197734321017  \n",
      "6083  1082464695961892979  \n",
      "3800             26070439  \n",
      "2898             23586153  \n",
      "8469   789825618743404001  \n",
      "3829  1177004448674655267  \n",
      "5290             36510814  \n",
      "8126  1097917488714344407  \n",
      "2423   898625845953668068  \n",
      "5614              2868831  \n",
      "4981   846191608104299550  \n",
      "6803             48129084  \n",
      "6174   790642550573947640  \n",
      "2751             23669966  \n",
      "1264  1273426579974131031  \n",
      "1915  1028052294822486950  \n",
      "3455  1233814092740348474  \n",
      "1267  1271263219771543078  \n",
      "1261  1270931452135241292  \n",
      "3467   641344261538300181  \n",
      "7873  1180841238968126063  \n",
      "7735  1374745896277710290  \n",
      "6485  1355080843012753401  \n",
      "6773   666564363098410561  \n",
      "3225             37033671  \n",
      "4420  1363862836451975898  \n",
      "3606  1287735069909238137  \n",
      "6089  1147156586106021165  \n",
      "3798   855807957932454496  \n",
      "2041   756614291032800976  \n",
      "1937  1264452543403641618  \n",
      "2391  1051341977893860852  \n",
      "656   1110821279745595627  \n",
      "8058  1243527974792424836  \n",
      "3016  1285602331799868116  \n",
      "7739             51054778  \n",
      "3422  1344787164459639516  \n",
      "2079  1102218537926371946  \n",
      "8157             37316330  \n",
      "542              23853532  \n",
      "5701  1077572996183476756  \n",
      "8321  1267237779429682016  \n",
      "7769             41129846  \n",
      "2909   960221670312180536  \n",
      "3499             24008528  \n",
      "2133   924685365743780830  \n",
      "6022             14333168  \n",
      "7724             52531880  \n",
      "3525  1368721414218062947  \n",
      "1678             52948525  \n",
      "37     763840552212320009  \n",
      "2307             45681075  \n",
      "3749   895612520757700136  \n",
      "2773   892612899544036990  \n",
      "94     911527734264406992  \n",
      "2733  1120095095438423722  \n",
      "7488   845440499469756680  \n",
      "2728   807967466236568546  \n",
      "3760  1340425336749171781  \n",
      "2841   641754992209124198  \n",
      "3307  1171729465993768936  \n",
      "2636  1259371917862549169  \n",
      "3166             23698466  \n",
      "2173  1020354209981907837  \n",
      "5462             25276946  \n",
      "2236  1031557999065902445  \n",
      "3291   988477762434549462  \n",
      "2371  1297936037603119385  \n"
     ]
    },
    {
     "name": "stderr",
     "output_type": "stream",
     "text": [
      "<>:4: SyntaxWarning: invalid escape sequence '\\$'\n",
      "<>:4: SyntaxWarning: invalid escape sequence '\\$'\n",
      "C:\\Users\\rey_d\\AppData\\Local\\Temp\\ipykernel_3284\\1401123151.py:4: SyntaxWarning: invalid escape sequence '\\$'\n",
      "  df['price'] = df['price'].replace('[\\$,€]', '', regex=True).astype(float)\n"
     ]
    }
   ],
   "source": [
    "# COMPROBAR SI HAY DUPLICADOS PARCIALES\n",
    "\n",
    "# Asegurar que 'price' es numérico (quitar símbolos si es necesario)\n",
    "df['price'] = df['price'].replace('[\\$,€]', '', regex=True).astype(float)\n",
    "\n",
    "# Seleccionar columnas relevantes para duplicados parciales\n",
    "subset = ['neighbourhood', 'room_type']  # Quitamos 'price' del subset\n",
    "\n",
    "# Encontrar duplicados parciales\n",
    "duplicados_parciales = df[df.duplicated(subset=subset, keep=False)]\n",
    "\n",
    "# Quedarse con el duplicado que tenga el precio más alto en cada grupo\n",
    "duplicados_max_precio = (\n",
    "    duplicados_parciales\n",
    "    .sort_values('price', ascending=False)\n",
    "    .drop_duplicates(subset=subset, keep='first')\n",
    ")\n",
    "\n",
    "# Mostrar resultados\n",
    "print(f\"Duplicados parciales originales: {len(duplicados_parciales)}\")\n",
    "print(f\"Duplicados eliminados, se conservan los de mayor precio: {len(duplicados_max_precio)}\")\n",
    "print(duplicados_max_precio[[*subset, 'price', 'id']].sort_values(by=subset))\n",
    "\n"
   ]
  },
  {
   "cell_type": "code",
   "execution_count": 14,
   "id": "cf28b3ac",
   "metadata": {},
   "outputs": [
    {
     "data": {
      "text/plain": [
       "id                                                 0\n",
       "listing_url                                        0\n",
       "scrape_id                                          0\n",
       "last_scraped                                       0\n",
       "source                                             0\n",
       "name                                               0\n",
       "description                                      245\n",
       "neighborhood_overview                           5087\n",
       "picture_url                                        0\n",
       "host_id                                            0\n",
       "host_url                                           0\n",
       "host_name                                          0\n",
       "host_since                                         0\n",
       "host_location                                   2330\n",
       "host_about                                      4276\n",
       "host_response_time                               614\n",
       "host_response_rate                               614\n",
       "host_acceptance_rate                             377\n",
       "host_is_superhost                                252\n",
       "host_thumbnail_url                                 0\n",
       "host_picture_url                                   0\n",
       "host_neighbourhood                              6710\n",
       "host_listings_count                                0\n",
       "host_total_listings_count                          0\n",
       "host_verifications                                 0\n",
       "host_has_profile_pic                               0\n",
       "host_identity_verified                             0\n",
       "neighbourhood                                      0\n",
       "neighbourhood_group                                0\n",
       "latitude                                           0\n",
       "longitude                                          0\n",
       "property_type                                      0\n",
       "room_type                                          0\n",
       "accommodates                                       0\n",
       "bathrooms                                        681\n",
       "bathrooms_text                                    11\n",
       "bedrooms                                         216\n",
       "beds                                             677\n",
       "amenities                                          0\n",
       "price                                            689\n",
       "minimum_nights                                     0\n",
       "maximum_nights                                     0\n",
       "minimum_minimum_nights                             0\n",
       "maximum_minimum_nights                             0\n",
       "minimum_maximum_nights                             0\n",
       "maximum_maximum_nights                             0\n",
       "minimum_nights_avg_ntm                             0\n",
       "maximum_nights_avg_ntm                             0\n",
       "calendar_updated                                8847\n",
       "has_availability                                 133\n",
       "availability_30                                    0\n",
       "availability_60                                    0\n",
       "availability_90                                    0\n",
       "availability_365                                   0\n",
       "calendar_last_scraped                              0\n",
       "number_of_reviews                                  0\n",
       "number_of_reviews_ltm                              0\n",
       "number_of_reviews_l30d                             0\n",
       "availability_eoy                                   0\n",
       "number_of_reviews_ly                               0\n",
       "estimated_occupancy_l365d                          0\n",
       "estimated_revenue_l365d                          689\n",
       "first_review                                    1553\n",
       "last_review                                     1553\n",
       "review_scores_rating                            1553\n",
       "review_scores_accuracy                          1553\n",
       "review_scores_cleanliness                       1553\n",
       "review_scores_checkin                           1553\n",
       "review_scores_communication                     1553\n",
       "review_scores_location                          1553\n",
       "review_scores_value                             1553\n",
       "license                                         6234\n",
       "instant_bookable                                   0\n",
       "calculated_host_listings_count                     0\n",
       "calculated_host_listings_count_entire_homes        0\n",
       "calculated_host_listings_count_private_rooms       0\n",
       "calculated_host_listings_count_shared_rooms        0\n",
       "reviews_per_month                               1553\n",
       "city                                               0\n",
       "dtype: int64"
      ]
     },
     "execution_count": 14,
     "metadata": {},
     "output_type": "execute_result"
    }
   ],
   "source": [
    "df.isnull().sum() #comprueba si hay valores nulos"
   ]
  },
  {
   "cell_type": "code",
   "execution_count": 15,
   "id": "d6d28bcc",
   "metadata": {},
   "outputs": [
    {
     "data": {
      "text/plain": [
       "id                                                0.000000\n",
       "listing_url                                       0.000000\n",
       "scrape_id                                         0.000000\n",
       "last_scraped                                      0.000000\n",
       "source                                            0.000000\n",
       "name                                              0.000000\n",
       "description                                       2.769300\n",
       "neighborhood_overview                            57.499717\n",
       "picture_url                                       0.000000\n",
       "host_id                                           0.000000\n",
       "host_url                                          0.000000\n",
       "host_name                                         0.000000\n",
       "host_since                                        0.000000\n",
       "host_location                                    26.336611\n",
       "host_about                                       48.332768\n",
       "host_response_time                                6.940206\n",
       "host_response_rate                                6.940206\n",
       "host_acceptance_rate                              4.261332\n",
       "host_is_superhost                                 2.848423\n",
       "host_thumbnail_url                                0.000000\n",
       "host_picture_url                                  0.000000\n",
       "host_neighbourhood                               75.844919\n",
       "host_listings_count                               0.000000\n",
       "host_total_listings_count                         0.000000\n",
       "host_verifications                                0.000000\n",
       "host_has_profile_pic                              0.000000\n",
       "host_identity_verified                            0.000000\n",
       "neighbourhood                                     0.000000\n",
       "neighbourhood_group                               0.000000\n",
       "latitude                                          0.000000\n",
       "longitude                                         0.000000\n",
       "property_type                                     0.000000\n",
       "room_type                                         0.000000\n",
       "accommodates                                      0.000000\n",
       "bathrooms                                         7.697525\n",
       "bathrooms_text                                    0.124336\n",
       "bedrooms                                          2.441506\n",
       "beds                                              7.652312\n",
       "amenities                                         0.000000\n",
       "price                                             7.787951\n",
       "minimum_nights                                    0.000000\n",
       "maximum_nights                                    0.000000\n",
       "minimum_minimum_nights                            0.000000\n",
       "maximum_minimum_nights                            0.000000\n",
       "minimum_maximum_nights                            0.000000\n",
       "maximum_maximum_nights                            0.000000\n",
       "minimum_nights_avg_ntm                            0.000000\n",
       "maximum_nights_avg_ntm                            0.000000\n",
       "calendar_updated                                100.000000\n",
       "has_availability                                  1.503334\n",
       "availability_30                                   0.000000\n",
       "availability_60                                   0.000000\n",
       "availability_90                                   0.000000\n",
       "availability_365                                  0.000000\n",
       "calendar_last_scraped                             0.000000\n",
       "number_of_reviews                                 0.000000\n",
       "number_of_reviews_ltm                             0.000000\n",
       "number_of_reviews_l30d                            0.000000\n",
       "availability_eoy                                  0.000000\n",
       "number_of_reviews_ly                              0.000000\n",
       "estimated_occupancy_l365d                         0.000000\n",
       "estimated_revenue_l365d                           7.787951\n",
       "first_review                                     17.553973\n",
       "last_review                                      17.553973\n",
       "review_scores_rating                             17.553973\n",
       "review_scores_accuracy                           17.553973\n",
       "review_scores_cleanliness                        17.553973\n",
       "review_scores_checkin                            17.553973\n",
       "review_scores_communication                      17.553973\n",
       "review_scores_location                           17.553973\n",
       "review_scores_value                              17.553973\n",
       "license                                          70.464564\n",
       "instant_bookable                                  0.000000\n",
       "calculated_host_listings_count                    0.000000\n",
       "calculated_host_listings_count_entire_homes       0.000000\n",
       "calculated_host_listings_count_private_rooms      0.000000\n",
       "calculated_host_listings_count_shared_rooms       0.000000\n",
       "reviews_per_month                                17.553973\n",
       "city                                              0.000000\n",
       "dtype: float64"
      ]
     },
     "execution_count": 15,
     "metadata": {},
     "output_type": "execute_result"
    }
   ],
   "source": [
    "df.isnull().sum() / len(df) * 100 #porcentaje de valores nulos por columna"
   ]
  },
  {
   "cell_type": "code",
   "execution_count": 16,
   "id": "f6de70bc",
   "metadata": {},
   "outputs": [
    {
     "data": {
      "text/plain": [
       "<Axes: >"
      ]
     },
     "execution_count": 16,
     "metadata": {},
     "output_type": "execute_result"
    },
    {
     "data": {
      "image/png": "[encoded data removed]",
      "text/plain": [
       "<Figure size 640x480 with 1 Axes>"
      ]
     },
     "metadata": {},
     "output_type": "display_data"
    }
   ],
   "source": [
    "sns.heatmap(df.isnull(), cbar=False, cmap='viridis') #visualiza los valores nulos"
   ]
  },
  {
   "cell_type": "code",
   "execution_count": 17,
   "id": "fc1a1239",
   "metadata": {},
   "outputs": [],
   "source": [
    "# al no corresponder a ninguno, cambiamos el valor nulo a sin datos\n",
    "df['license'] = df['license'].fillna('Sin datos')"
   ]
  },
  {
   "cell_type": "code",
   "execution_count": 18,
   "id": "3d44c66e",
   "metadata": {},
   "outputs": [],
   "source": [
    "#df['last_review'] = pd.to_datetime(df['last_review'], errors='coerce')\n"
   ]
  },
  {
   "cell_type": "code",
   "execution_count": 19,
   "id": "a24862cb",
   "metadata": {},
   "outputs": [],
   "source": [
    "#print(df['last_review'].notna().sum())"
   ]
  },
  {
   "cell_type": "code",
   "execution_count": 20,
   "id": "41e243e8",
   "metadata": {},
   "outputs": [
    {
     "data": {
      "text/plain": [
       "'invalid_dates = df.loc[\\n    pd.to_datetime(df[\\'last_review\\'], errors=\\'coerce\\').isna(),\\n    \\'last_review\\'\\n].unique()\\n\\nprint(\"Valores no válidos en \\'last_review\\':\", invalid_dates)'"
      ]
     },
     "execution_count": 20,
     "metadata": {},
     "output_type": "execute_result"
    }
   ],
   "source": [
    "#ver los valores no válidos en 'last_review'\n",
    "'''invalid_dates = df.loc[\n",
    "    pd.to_datetime(df['last_review'], errors='coerce').isna(),\n",
    "    'last_review'\n",
    "].unique()\n",
    "\n",
    "print(\"Valores no válidos en 'last_review':\", invalid_dates)'''"
   ]
  },
  {
   "cell_type": "code",
   "execution_count": 21,
   "id": "944ba4c0",
   "metadata": {},
   "outputs": [
    {
     "data": {
      "text/plain": [
       "'print(\"Total filas:\", len(df))\\n\\n# Cuántos valores no nulos tiene la columna last_review\\nprint(\"Valores válidos en last_review:\", df[\\'last_review\\'].notna().sum())\\n\\n# Muestra primeras filas de la columna last_review para ver qué hay\\nprint(df[\\'last_review\\'].head(10))'"
      ]
     },
     "execution_count": 21,
     "metadata": {},
     "output_type": "execute_result"
    }
   ],
   "source": [
    "# Cuántas filas totales tienes\n",
    "'''print(\"Total filas:\", len(df))\n",
    "\n",
    "# Cuántos valores no nulos tiene la columna last_review\n",
    "print(\"Valores válidos en last_review:\", df['last_review'].notna().sum())\n",
    "\n",
    "# Muestra primeras filas de la columna last_review para ver qué hay\n",
    "print(df['last_review'].head(10))'''"
   ]
  },
  {
   "cell_type": "code",
   "execution_count": 22,
   "id": "c2e277a4",
   "metadata": {},
   "outputs": [],
   "source": [
    "#print(df['last_review'].describe())"
   ]
  },
  {
   "cell_type": "code",
   "execution_count": 23,
   "id": "2970a9fc",
   "metadata": {},
   "outputs": [],
   "source": [
    "#eliminar nulos first_review\n",
    "df['first_review'] = pd.to_datetime(df['first_review'], errors='coerce')"
   ]
  },
  {
   "cell_type": "code",
   "execution_count": 24,
   "id": "771e1410",
   "metadata": {},
   "outputs": [],
   "source": [
    "#Rellenar los valores nulos con una fecha por defecto,\n",
    "df['first_review'] = pd.to_datetime(df['first_review'])  # Asegura el tipo datetime\n",
    "latest_date = df['first_review'].max()\n",
    "df['first_review'] = df['first_review'].fillna('2000-01-01')"
   ]
  },
  {
   "cell_type": "code",
   "execution_count": 25,
   "id": "42c9f719",
   "metadata": {},
   "outputs": [
    {
     "name": "stdout",
     "output_type": "stream",
     "text": [
      "8847\n"
     ]
    }
   ],
   "source": [
    "print(df['first_review'].notna().sum())\n"
   ]
  },
  {
   "cell_type": "code",
   "execution_count": 26,
   "id": "061bc366",
   "metadata": {},
   "outputs": [
    {
     "name": "stdout",
     "output_type": "stream",
     "text": [
      "Valores no válidos en 'first_review': <DatetimeArray>\n",
      "[]\n",
      "Length: 0, dtype: datetime64[ns]\n"
     ]
    }
   ],
   "source": [
    "#ver los valores no válidos en 'first_review'\n",
    "invalid_dates = df.loc[\n",
    "    pd.to_datetime(df['first_review'], errors='coerce').isna(),\n",
    "    'first_review'\n",
    "].unique()\n",
    "\n",
    "print(\"Valores no válidos en 'first_review':\", invalid_dates)"
   ]
  },
  {
   "cell_type": "code",
   "execution_count": 27,
   "id": "9741f724",
   "metadata": {},
   "outputs": [
    {
     "name": "stdout",
     "output_type": "stream",
     "text": [
      "Total filas: 8847\n",
      "Valores válidos en first_review: 8847\n",
      "0   2023-08-08\n",
      "1   2023-09-03\n",
      "2   2023-08-30\n",
      "3   2023-10-06\n",
      "4   2023-07-09\n",
      "5   2023-08-19\n",
      "6   2016-05-30\n",
      "7   2022-07-01\n",
      "8   2024-12-26\n",
      "9   2024-06-24\n",
      "Name: first_review, dtype: datetime64[ns]\n"
     ]
    }
   ],
   "source": [
    "# Cuántas filas totales tienes\n",
    "print(\"Total filas:\", len(df))\n",
    "\n",
    "# Cuántos valores no nulos tiene la columna first_review\n",
    "print(\"Valores válidos en first_review:\", df['first_review'].notna().sum())\n",
    "\n",
    "# Muestra primeras filas de la columna first_review para ver qué hay\n",
    "print(df['first_review'].head(10))"
   ]
  },
  {
   "cell_type": "code",
   "execution_count": 28,
   "id": "5c71c499",
   "metadata": {},
   "outputs": [
    {
     "name": "stdout",
     "output_type": "stream",
     "text": [
      "count                             8847\n",
      "mean     2018-05-15 12:11:08.972533248\n",
      "min                2000-01-01 00:00:00\n",
      "25%                2017-06-25 12:00:00\n",
      "50%                2022-09-17 00:00:00\n",
      "75%                2024-03-30 00:00:00\n",
      "max                2025-03-15 00:00:00\n",
      "Name: first_review, dtype: object\n"
     ]
    }
   ],
   "source": [
    "print(df['first_review'].describe())"
   ]
  },
  {
   "cell_type": "code",
   "execution_count": 29,
   "id": "f5c056ba",
   "metadata": {},
   "outputs": [
    {
     "data": {
      "text/html": [
       "<div>\n",
       "<style scoped>\n",
       "    .dataframe tbody tr th:only-of-type {\n",
       "        vertical-align: middle;\n",
       "    }\n",
       "\n",
       "    .dataframe tbody tr th {\n",
       "        vertical-align: top;\n",
       "    }\n",
       "\n",
       "    .dataframe thead th {\n",
       "        text-align: right;\n",
       "    }\n",
       "</style>\n",
       "<table border=\"1\" class=\"dataframe\">\n",
       "  <thead>\n",
       "    <tr style=\"text-align: right;\">\n",
       "      <th></th>\n",
       "      <th>price</th>\n",
       "      <th>bathrooms</th>\n",
       "      <th>accommodates</th>\n",
       "    </tr>\n",
       "  </thead>\n",
       "  <tbody>\n",
       "    <tr>\n",
       "      <th>count</th>\n",
       "      <td>8158.000000</td>\n",
       "      <td>8166.000000</td>\n",
       "      <td>8847.000000</td>\n",
       "    </tr>\n",
       "    <tr>\n",
       "      <th>mean</th>\n",
       "      <td>165.815886</td>\n",
       "      <td>1.263164</td>\n",
       "      <td>3.520628</td>\n",
       "    </tr>\n",
       "    <tr>\n",
       "      <th>std</th>\n",
       "      <td>499.218525</td>\n",
       "      <td>0.623971</td>\n",
       "      <td>1.900533</td>\n",
       "    </tr>\n",
       "    <tr>\n",
       "      <th>min</th>\n",
       "      <td>8.000000</td>\n",
       "      <td>0.000000</td>\n",
       "      <td>1.000000</td>\n",
       "    </tr>\n",
       "    <tr>\n",
       "      <th>25%</th>\n",
       "      <td>72.000000</td>\n",
       "      <td>1.000000</td>\n",
       "      <td>2.000000</td>\n",
       "    </tr>\n",
       "    <tr>\n",
       "      <th>50%</th>\n",
       "      <td>113.000000</td>\n",
       "      <td>1.000000</td>\n",
       "      <td>4.000000</td>\n",
       "    </tr>\n",
       "    <tr>\n",
       "      <th>75%</th>\n",
       "      <td>160.750000</td>\n",
       "      <td>1.500000</td>\n",
       "      <td>4.000000</td>\n",
       "    </tr>\n",
       "    <tr>\n",
       "      <th>max</th>\n",
       "      <td>10010.000000</td>\n",
       "      <td>11.500000</td>\n",
       "      <td>16.000000</td>\n",
       "    </tr>\n",
       "  </tbody>\n",
       "</table>\n",
       "</div>"
      ],
      "text/plain": [
       "              price    bathrooms  accommodates\n",
       "count   8158.000000  8166.000000   8847.000000\n",
       "mean     165.815886     1.263164      3.520628\n",
       "std      499.218525     0.623971      1.900533\n",
       "min        8.000000     0.000000      1.000000\n",
       "25%       72.000000     1.000000      2.000000\n",
       "50%      113.000000     1.000000      4.000000\n",
       "75%      160.750000     1.500000      4.000000\n",
       "max    10010.000000    11.500000     16.000000"
      ]
     },
     "execution_count": 29,
     "metadata": {},
     "output_type": "execute_result"
    }
   ],
   "source": [
    "df[['price', 'bathrooms', 'accommodates']].describe()"
   ]
  },
  {
   "cell_type": "code",
   "execution_count": 30,
   "id": "eef80ccc",
   "metadata": {},
   "outputs": [
    {
     "data": {
      "image/png": "[encoded data removed]",
      "text/plain": [
       "<Figure size 1500x400 with 3 Axes>"
      ]
     },
     "metadata": {},
     "output_type": "display_data"
    }
   ],
   "source": [
    "#Boxplot outliers\n",
    "import seaborn as sns\n",
    "import matplotlib.pyplot as plt\n",
    "\n",
    "plt.figure(figsize=(15, 4))\n",
    "\n",
    "for i, col in enumerate(['price', 'bathrooms', 'accommodates']):\n",
    "    plt.subplot(1, 3, i+1)\n",
    "    sns.boxplot(x=df[col])\n",
    "    plt.title(col)\n",
    "\n",
    "plt.tight_layout()\n",
    "plt.show()"
   ]
  },
  {
   "cell_type": "code",
   "execution_count": 31,
   "id": "0dfba2e5",
   "metadata": {},
   "outputs": [
    {
     "data": {
      "text/plain": [
       "\"# Calendar\\n# Cargar Calendar data\\nimport gzip\\n\\nids_valencia = df['id'].unique()\\n\\nwith gzip.open('../data/calendar.csv.gz', 'rt', encoding='utf-8') as f:\\n    calendar = pd.read_csv(f)\\n\\ncalendar.head()\""
      ]
     },
     "execution_count": 31,
     "metadata": {},
     "output_type": "execute_result"
    }
   ],
   "source": [
    "'''# Calendar\n",
    "# Cargar Calendar data\n",
    "import gzip\n",
    "\n",
    "ids_valencia = df['id'].unique()\n",
    "\n",
    "with gzip.open('../data/calendar.csv.gz', 'rt', encoding='utf-8') as f:\n",
    "    calendar = pd.read_csv(f)\n",
    "\n",
    "calendar.head()'''"
   ]
  },
  {
   "cell_type": "markdown",
   "id": "fac9cefc",
   "metadata": {},
   "source": [
    "###### precio nulo"
   ]
  },
  {
   "cell_type": "code",
   "execution_count": 32,
   "id": "2509c05e",
   "metadata": {},
   "outputs": [
    {
     "data": {
      "text/plain": [
       "'# Filtrar por IDs de valencia\\ncalendar_valencia = calendar[calendar[\\'listing_id\\'].isin(ids_valencia)].copy()\\nprint(f\"Filas originales: {calendar.shape[0]}\")\\nprint(f\"Filas de Valencia: {calendar_valencia .shape[0]}\")'"
      ]
     },
     "execution_count": 32,
     "metadata": {},
     "output_type": "execute_result"
    }
   ],
   "source": [
    "'''# Filtrar por IDs de valencia\n",
    "calendar_valencia = calendar[calendar['listing_id'].isin(ids_valencia)].copy()\n",
    "print(f\"Filas originales: {calendar.shape[0]}\")\n",
    "print(f\"Filas de Valencia: {calendar_valencia .shape[0]}\")'''"
   ]
  },
  {
   "cell_type": "code",
   "execution_count": 33,
   "id": "15dcd2dd",
   "metadata": {},
   "outputs": [
    {
     "data": {
      "text/plain": [
       "'# Guardar el calendario filtrado\\ncalendar_valencia.to_csv(\\'../data/calendar_valencia.csv\\', index=False)\\nprint(\"✅ Archivo guardado: calendar_valencia.csv\")'"
      ]
     },
     "execution_count": 33,
     "metadata": {},
     "output_type": "execute_result"
    }
   ],
   "source": [
    "'''# Guardar el calendario filtrado\n",
    "calendar_valencia.to_csv('../data/calendar_valencia.csv', index=False)\n",
    "print(\"✅ Archivo guardado: calendar_valencia.csv\")'''"
   ]
  },
  {
   "cell_type": "code",
   "execution_count": 34,
   "id": "86a84632",
   "metadata": {},
   "outputs": [
    {
     "name": "stdout",
     "output_type": "stream",
     "text": [
      "Total de precios nulos: 689\n"
     ]
    }
   ],
   "source": [
    "print(\"Total de precios nulos:\", df['price'].isnull().sum())"
   ]
  },
  {
   "cell_type": "code",
   "execution_count": 35,
   "id": "bf79138e",
   "metadata": {},
   "outputs": [
    {
     "name": "stdout",
     "output_type": "stream",
     "text": [
      "Columnas disponibles: Index(['id', 'listing_url', 'scrape_id', 'last_scraped', 'source', 'name',\n",
      "       'description', 'neighborhood_overview', 'picture_url', 'host_id',\n",
      "       'host_url', 'host_name', 'host_since', 'host_location', 'host_about',\n",
      "       'host_response_time', 'host_response_rate', 'host_acceptance_rate',\n",
      "       'host_is_superhost', 'host_thumbnail_url', 'host_picture_url',\n",
      "       'host_neighbourhood', 'host_listings_count',\n",
      "       'host_total_listings_count', 'host_verifications',\n",
      "       'host_has_profile_pic', 'host_identity_verified', 'neighbourhood',\n",
      "       'neighbourhood_group', 'latitude', 'longitude', 'property_type',\n",
      "       'room_type', 'accommodates', 'bathrooms', 'bathrooms_text', 'bedrooms',\n",
      "       'beds', 'amenities', 'price', 'minimum_nights', 'maximum_nights',\n",
      "       'minimum_minimum_nights', 'maximum_minimum_nights',\n",
      "       'minimum_maximum_nights', 'maximum_maximum_nights',\n",
      "       'minimum_nights_avg_ntm', 'maximum_nights_avg_ntm', 'calendar_updated',\n",
      "       'has_availability', 'availability_30', 'availability_60',\n",
      "       'availability_90', 'availability_365', 'calendar_last_scraped',\n",
      "       'number_of_reviews', 'number_of_reviews_ltm', 'number_of_reviews_l30d',\n",
      "       'availability_eoy', 'number_of_reviews_ly', 'estimated_occupancy_l365d',\n",
      "       'estimated_revenue_l365d', 'first_review', 'last_review',\n",
      "       'review_scores_rating', 'review_scores_accuracy',\n",
      "       'review_scores_cleanliness', 'review_scores_checkin',\n",
      "       'review_scores_communication', 'review_scores_location',\n",
      "       'review_scores_value', 'license', 'instant_bookable',\n",
      "       'calculated_host_listings_count',\n",
      "       'calculated_host_listings_count_entire_homes',\n",
      "       'calculated_host_listings_count_private_rooms',\n",
      "       'calculated_host_listings_count_shared_rooms', 'reviews_per_month',\n",
      "       'city'],\n",
      "      dtype='object')\n",
      "Tipos de habitación: ['Entire home/apt' 'Private room' 'Hotel room' 'Shared room']\n",
      "Barrios únicos: 85\n",
      "neighbourhood  room_type      \n",
      "AIORA          Entire home/apt    151.680272\n",
      "               Private room        60.027778\n",
      "ALBORS         Entire home/apt    137.378378\n",
      "               Private room        57.818182\n",
      "ARRANCAPINS    Entire home/apt    157.394558\n",
      "               Private room        56.853333\n",
      "               Shared room         57.000000\n",
      "BENICALAP      Entire home/apt    570.737500\n",
      "               Private room        50.200000\n",
      "BENIFERRI      Entire home/apt    124.625000\n",
      "Name: price, dtype: float64\n"
     ]
    }
   ],
   "source": [
    "#Revisar columnas comparables \n",
    "\n",
    "print(\"Columnas disponibles:\", df.columns)\n",
    "print(\"Tipos de habitación:\", df['room_type'].unique())\n",
    "print(\"Barrios únicos:\", df['neighbourhood'].nunique())\n",
    "\n",
    "# Promedio de precio por tipo de habitación y barrio\n",
    "print(df.groupby(['neighbourhood', 'room_type'])['price'].mean().head(10))"
   ]
  },
  {
   "cell_type": "code",
   "execution_count": 36,
   "id": "487eb1aa",
   "metadata": {},
   "outputs": [],
   "source": [
    "#Rellenar precios faltantes con promedio de registros similares\n",
    "\n",
    "# Calcular el promedio de precio por combinación barrio + tipo de habitación y convertir a dict\n",
    "precio_promedio = df.groupby(['neighbourhood', 'room_type'])['price'].mean().to_dict()\n",
    "\n",
    "# Función para imputar precios\n",
    "def imputar_precio(fila):\n",
    "    if pd.isnull(fila['price']):\n",
    "        valor = precio_promedio.get((fila['neighbourhood'], fila['room_type']))\n",
    "        # Si no hay promedio para esa combinación o es NaN, usar promedio general\n",
    "        if pd.isnull(valor):\n",
    "            return df['price'].mean()\n",
    "        else:\n",
    "            return valor\n",
    "    return fila['price']\n",
    "\n",
    "# Aplicar la función\n",
    "df['price'] = df.apply(imputar_precio, axis=1)"
   ]
  },
  {
   "cell_type": "code",
   "execution_count": 37,
   "id": "f6255f54",
   "metadata": {},
   "outputs": [
    {
     "name": "stdout",
     "output_type": "stream",
     "text": [
      "Precios nulos restantes: 0\n"
     ]
    }
   ],
   "source": [
    "print(\"Precios nulos restantes:\", df['price'].isnull().sum())"
   ]
  },
  {
   "cell_type": "code",
   "execution_count": 38,
   "id": "6e095e02",
   "metadata": {},
   "outputs": [],
   "source": [
    "#rellenamos los valores de nulos en description con los datos de name\n",
    "def rellenar_descripcion(fila):\n",
    "    if pd.isna(fila['description']) or fila['description'].strip() == '':\n",
    "        return fila['name']  # o cualquier otra columna que quieras usar\n",
    "    else:\n",
    "        return fila['description']\n",
    "\n",
    "df['description'] = df.apply(rellenar_descripcion, axis=1)\n"
   ]
  },
  {
   "cell_type": "code",
   "execution_count": 39,
   "id": "3321ac73",
   "metadata": {},
   "outputs": [],
   "source": [
    "#neighborhood_overview->descripción general del barrio o vecindario donde se encuentra el alojamiento.\n",
    "# Obtener la descripción más frecuente por barrio\n",
    "descripcion_mas_frecuente = df.groupby('neighbourhood')['neighborhood_overview'].agg(lambda x: x.mode().iloc[0] if not x.mode().empty else 'Sin información')\n",
    "\n",
    "def imputar_overview(fila):\n",
    "    if pd.isna(fila['neighborhood_overview']) or fila['neighborhood_overview'].strip() == '':\n",
    "        return descripcion_mas_frecuente.get(fila['neighbourhood'], 'Sin información')\n",
    "    else:\n",
    "        return fila['neighborhood_overview']\n",
    "\n",
    "df['neighborhood_overview'] = df.apply(imputar_overview, axis=1)\n"
   ]
  },
  {
   "cell_type": "code",
   "execution_count": 40,
   "id": "eed7be37",
   "metadata": {},
   "outputs": [],
   "source": [
    "#rellenamos host_location con los datos de host_neighbourhood\n",
    "# Calcular moda por host_neighbourhood\n",
    "moda_por_vecindario = df.groupby('host_neighbourhood')['host_location'].agg(lambda x: x.mode().iloc[0] if not x.mode().empty else 'Desconocida')\n",
    "\n",
    "def imputar_host_location(fila):\n",
    "    if pd.isna(fila['host_location']):\n",
    "        return moda_por_vecindario.get(fila['host_neighbourhood'], 'Desconocida')\n",
    "    else:\n",
    "        return fila['host_location']\n",
    "\n",
    "df['host_location'] = df.apply(imputar_host_location, axis=1)\n"
   ]
  },
  {
   "cell_type": "code",
   "execution_count": 41,
   "id": "e1d1f4dc",
   "metadata": {},
   "outputs": [],
   "source": [
    "#host_about->descripción del anfitrión\n",
    "def rellenar_host_about(fila):\n",
    "    if pd.isna(fila['host_about']) or fila['host_about'].strip() == '':\n",
    "        return f\"Anfitrión {fila['host_name']} de {fila['host_location']}\"\n",
    "    return fila['host_about']\n",
    "\n",
    "df['host_about'] = df.apply(rellenar_host_about, axis=1)\n"
   ]
  },
  {
   "cell_type": "code",
   "execution_count": 42,
   "id": "7688fe03",
   "metadata": {},
   "outputs": [],
   "source": [
    "#host_response_time->tiempo de respuesta del anfitrión\n",
    "moda_por_superhost = df.groupby('host_is_superhost')['host_response_time'].agg(lambda x: x.mode().iloc[0] if not x.mode().empty else 'No especificado')\n",
    "\n",
    "def imputar_response_time(fila):\n",
    "    if pd.isna(fila['host_response_time']):\n",
    "        return moda_por_superhost.get(fila['host_is_superhost'], 'No especificado')\n",
    "    return fila['host_response_time']\n",
    "\n",
    "df['host_response_time'] = df.apply(imputar_response_time, axis=1)\n"
   ]
  },
  {
   "cell_type": "code",
   "execution_count": 43,
   "id": "852f194c",
   "metadata": {},
   "outputs": [],
   "source": [
    "#host_response_rate -> tasa de respuesta del anfitrión.\n",
    "# Asegurarse que host_response_rate sea numérico (sin %)\n",
    "df['host_response_rate'] = df['host_response_rate'].str.rstrip('%').astype(float)\n",
    "\n",
    "# Calcular la media por grupo y usar transform para asignar la media a cada fila según grupo\n",
    "media_por_response_time = df.groupby('host_response_time')['host_response_rate'].transform('mean')\n",
    "\n",
    "# Imputar nulos con la media del grupo correspondiente\n",
    "df['host_response_rate'] = df['host_response_rate'].fillna(media_por_response_time)\n"
   ]
  },
  {
   "cell_type": "code",
   "execution_count": 44,
   "id": "c7fc4c00",
   "metadata": {},
   "outputs": [],
   "source": [
    "#host_response_rate -> tasa de respuesta del anfitrión\n",
    "#Convertir la columna a numérica (quitando el %)\n",
    "\n",
    "# Si hay valores con '%' mezclados o la columna no es string:\n",
    "df['host_response_rate'] = df['host_response_rate'].astype(str).str.rstrip('%')\n",
    "df['host_response_rate'] = pd.to_numeric(df['host_response_rate'], errors='coerce')\n",
    "\n",
    "# Ahora imputar con media agrupada por host_response_time\n",
    "media_por_response_time = df.groupby('host_response_time')['host_response_rate'].transform('mean')\n",
    "df['host_response_rate'] = df['host_response_rate'].fillna(media_por_response_time)\n",
    "\n",
    "# Rellenar posibles valores aún nulos con mediana global\n",
    "df['host_response_rate'] = df['host_response_rate'].fillna(df['host_response_rate'].median())\n",
    "\n"
   ]
  },
  {
   "cell_type": "code",
   "execution_count": 45,
   "id": "e92c21f6",
   "metadata": {},
   "outputs": [],
   "source": [
    "#host_acceptance_rate -> tasa de aceptación del anfitrión, es decir, el porcentaje de solicitudes de reserva que el anfitrión acepta\n",
    "# Convertir a string, eliminar el %, y convertir a número\n",
    "df['host_acceptance_rate'] = df['host_acceptance_rate'].astype(str).str.rstrip('%')\n",
    "df['host_acceptance_rate'] = pd.to_numeric(df['host_acceptance_rate'], errors='coerce')\n",
    "\n",
    "#Media agrupada por múltiples factores\n",
    "#agrupar por más de una variable si quieres más precisión, como host_is_superhost y host_response_time.\n",
    "\n",
    "media_por_grupo = df.groupby(['host_is_superhost', 'host_response_time'])['host_acceptance_rate'].transform('mean')\n",
    "df['host_acceptance_rate'] = df['host_acceptance_rate'].fillna(media_por_grupo)\n",
    "\n",
    "#Rellenar nulos restantes con mediana global\n",
    "df['host_acceptance_rate'] = df['host_acceptance_rate'].fillna(df['host_acceptance_rate'].median())"
   ]
  },
  {
   "cell_type": "code",
   "execution_count": 46,
   "id": "0e29a61c",
   "metadata": {},
   "outputs": [],
   "source": [
    "#host_is_superhost -> indica si el anfitrión es un superanfitrión\n",
    "# Dejar los valores existentes como están, y rellenar los nulos con 'sin_datos'\n",
    "df['host_is_superhost'] = df['host_is_superhost'].fillna('Sin datos')"
   ]
  },
  {
   "cell_type": "code",
   "execution_count": 47,
   "id": "4f1cf8a9",
   "metadata": {},
   "outputs": [],
   "source": [
    "#host_neighbourhood -> barrio del anfitrión\n",
    "# Solo rellenar si host_neighbourhood está nulo\n",
    "df['host_neighbourhood'] = df['host_neighbourhood'].fillna(df['neighbourhood'])"
   ]
  },
  {
   "cell_type": "code",
   "execution_count": 48,
   "id": "76613c95",
   "metadata": {},
   "outputs": [],
   "source": [
    "#Usar la media agrupada por tipo de propiedad y capacidad\n",
    "#Esto asegura que propiedades similares tengan valores coherentes:\n",
    "\n",
    "# Agrupar por tipo de propiedad y capacidad\n",
    "df['bathrooms'] = df['bathrooms'].fillna(\n",
    "    df.groupby(['property_type', 'accommodates'])['bathrooms'].transform('mean')\n",
    ")\n",
    "\n",
    "#si aun quedan nulos, rellenar con la media global\n",
    "df['bathrooms'] = df['bathrooms'].fillna(df['bathrooms'].median())"
   ]
  },
  {
   "cell_type": "code",
   "execution_count": 49,
   "id": "8c58839a",
   "metadata": {},
   "outputs": [],
   "source": [
    "#bathromms_text -> texto descriptivo de los baños\n",
    "#Rellenar con texto genérico basado en el promedio calculado de bathrooms\n",
    "\n",
    "def texto_banos(num_banos):\n",
    "    if pd.isna(num_banos):\n",
    "        return 'sin datos'\n",
    "    elif num_banos == 0.5:\n",
    "        return 'Half-bath'\n",
    "    elif num_banos.is_integer():\n",
    "        return f\"{int(num_banos)} bath\"\n",
    "    else:\n",
    "        return f\"{num_banos} baths\"\n",
    "\n",
    "# Primero, asegúrate de que la columna bathrooms existe y está completa (rellena los nulos antes)\n",
    "# Por ejemplo, con el código que te di antes para extraer y rellenar bathrooms\n",
    "\n",
    "# Luego rellena los nulos de bathrooms_text basándote en bathrooms numérico\n",
    "df.loc[df['bathrooms_text'].isna(), 'bathrooms_text'] = df.loc[df['bathrooms_text'].isna(), 'bathrooms'].apply(texto_banos)"
   ]
  },
  {
   "cell_type": "code",
   "execution_count": 50,
   "id": "c0d8a425",
   "metadata": {},
   "outputs": [],
   "source": [
    "#bedrooms -> número de habitaciones\n",
    "#Rellenar con la media o mediana agrupada\n",
    "#Por ejemplo, calcular la media o mediana de bedrooms según property_type y/o accommodates, para que la imputación sea más precisa:\n",
    "\n",
    "# Usando mediana (más robusta a valores extremos)\n",
    "df['bedrooms'] = df['bedrooms'].fillna(\n",
    "    df.groupby(['property_type', 'accommodates'])['bedrooms'].transform('median')\n",
    ")\n",
    "\n",
    "#Si aún quedan nulos, rellenar con la mediana global\n",
    "\n",
    "df['bedrooms'] = df['bedrooms'].fillna(df['bedrooms'].median())"
   ]
  },
  {
   "cell_type": "code",
   "execution_count": 51,
   "id": "6125dc86",
   "metadata": {},
   "outputs": [],
   "source": [
    "#Beds -> rellenar nulos usando la mediana agrupada por property_type y accommodates\n",
    "#Esto es ideal para que la imputación tenga sentido según el tipo de alojamiento y la capacidad:\n",
    "\n",
    "df['beds'] = df['beds'].fillna(\n",
    "    df.groupby(['property_type', 'accommodates'])['beds'].transform('median')\n",
    ")\n",
    "\n",
    "#Rellenar los nulos restantes con la mediana global\n",
    "\n",
    "df['beds'] = df['beds'].fillna(df['beds'].median())\n",
    "\n",
    "#Convertir a entero (ya que el número de camas suele ser entero)\n",
    "\n",
    "df['beds'] = df['beds'].round(0).astype(int)"
   ]
  },
  {
   "cell_type": "code",
   "execution_count": 52,
   "id": "bd880c21",
   "metadata": {},
   "outputs": [],
   "source": [
    "df['calendar_updated'] = df['calendar_updated'].fillna('Sin datos')\n"
   ]
  },
  {
   "cell_type": "code",
   "execution_count": 53,
   "id": "b82d9a38",
   "metadata": {},
   "outputs": [
    {
     "name": "stdout",
     "output_type": "stream",
     "text": [
      "0       t\n",
      "1       t\n",
      "2       t\n",
      "3       t\n",
      "4       t\n",
      "5       t\n",
      "6       t\n",
      "7       t\n",
      "8       t\n",
      "9       t\n",
      "10    NaN\n",
      "11      t\n",
      "12      t\n",
      "13      t\n",
      "14      t\n",
      "15      t\n",
      "16      t\n",
      "17      t\n",
      "18      t\n",
      "19      t\n",
      "Name: has_availability, dtype: object\n",
      "has_availability\n",
      "t      8714\n",
      "NaN     133\n",
      "Name: count, dtype: int64\n"
     ]
    }
   ],
   "source": [
    "print(df['has_availability'].head(20))\n",
    "print(df['has_availability'].value_counts(dropna=False))\n"
   ]
  },
  {
   "cell_type": "code",
   "execution_count": 54,
   "id": "356de411",
   "metadata": {},
   "outputs": [
    {
     "name": "stdout",
     "output_type": "stream",
     "text": [
      "has_availability\n",
      "True    8847\n",
      "Name: count, dtype: int64\n",
      "bool\n"
     ]
    }
   ],
   "source": [
    "#has_availability -> indica si el alojamiento está disponible\n",
    "\n",
    "# 1. Rellenar nulos con la moda ('t')\n",
    "moda = df['has_availability'].mode()[0]\n",
    "df['has_availability'] = df['has_availability'].fillna(moda)\n",
    "\n",
    "# 2. Mapear 't' -> True, 'f' -> False (si acaso hay 'f')\n",
    "df['has_availability'] = df['has_availability'].map({'t': True, 'f': False})\n",
    "\n",
    "# 3. Por si hay valores que no son 't' ni 'f', rellenar nulos restantes con False\n",
    "df['has_availability'] = df['has_availability'].fillna(False).astype(bool)\n",
    "\n",
    "# Validar resultados\n",
    "print(df['has_availability'].value_counts(dropna=False))\n",
    "print(df['has_availability'].dtype)\n",
    "\n",
    "#Rellenar los nulos en has_availability con la moda (el valor más común) es más apropiado que poner \"sin datos\", porque:\n",
    "#   - has_availability es una variable categórica binaria (sí/no), no texto libre.\n",
    "#  - Poner \"sin datos\" introduciría una categoría nueva que puede confundir modelos o análisis estadísticos.\n",
    "#  - Imputar con la moda mantiene la distribución original de la variable, evitando sesgo fuerte."
   ]
  },
  {
   "cell_type": "code",
   "execution_count": 55,
   "id": "b0069345",
   "metadata": {},
   "outputs": [
    {
     "name": "stdout",
     "output_type": "stream",
     "text": [
      "0     True\n",
      "1     True\n",
      "2     True\n",
      "3     True\n",
      "4     True\n",
      "5     True\n",
      "6     True\n",
      "7     True\n",
      "8     True\n",
      "9     True\n",
      "10    True\n",
      "11    True\n",
      "12    True\n",
      "13    True\n",
      "14    True\n",
      "15    True\n",
      "16    True\n",
      "17    True\n",
      "18    True\n",
      "19    True\n",
      "Name: has_availability, dtype: bool\n",
      "has_availability\n",
      "True    8847\n",
      "Name: count, dtype: int64\n"
     ]
    }
   ],
   "source": [
    "print(df['has_availability'].head(20))\n",
    "print(df['has_availability'].value_counts(dropna=False))"
   ]
  },
  {
   "cell_type": "code",
   "execution_count": 56,
   "id": "d7bff2ed",
   "metadata": {},
   "outputs": [
    {
     "name": "stdout",
     "output_type": "stream",
     "text": [
      "   price  availability_365  estimated_occupancy_l365d  estimated_revenue_l365d\n",
      "0  143.0                77                         30                  41184.0\n",
      "1  109.0               180                        120                  20165.0\n",
      "2  120.0               172                         88                  23160.0\n",
      "3  109.0               172                         72                  21037.0\n",
      "4  134.0               316                        210                   6566.0\n"
     ]
    }
   ],
   "source": [
    "#estimated_revenue_l365d -> ingresos estimados en los últimos 365 días\n",
    "\n",
    "# Primero aseguramos que price es numérico y sin nulos (imputa si hace falta)\n",
    "df['price'] = pd.to_numeric(df['price'], errors='coerce')\n",
    "df['price'] = df['price'].fillna(df['price'].median())\n",
    "\n",
    "# Si estimated_occupancy_l365d está disponible y es confiable:\n",
    "df['estimated_revenue_l365d'] = df['price'] * 365 * df['estimated_occupancy_l365d']\n",
    "\n",
    "# Si no, puedes usar availability_365 para estimar días rentados:\n",
    "df['days_rented'] = 365 - df['availability_365']\n",
    "df['estimated_revenue_l365d'] = df['price'] * df['days_rented']\n",
    "\n",
    "# Maneja nulos o valores extraños en availability_365\n",
    "df['days_rented'] = df['days_rented'].clip(lower=0)  # evita negativos\n",
    "df['estimated_revenue_l365d'] = df['estimated_revenue_l365d'].fillna(0)\n",
    "\n",
    "# Verifica resultados\n",
    "print(df[['price', 'availability_365', 'estimated_occupancy_l365d', 'estimated_revenue_l365d']].head())\n"
   ]
  },
  {
   "cell_type": "code",
   "execution_count": 57,
   "id": "348792df",
   "metadata": {},
   "outputs": [
    {
     "name": "stdout",
     "output_type": "stream",
     "text": [
      "0.17553973098225387\n",
      "Nulos restantes en review_scores_rating: 0\n"
     ]
    }
   ],
   "source": [
    "#review_scores_rating -> calificación general promedio\n",
    "\n",
    "#revisamos la proporción de nulos\n",
    "print(df['review_scores_rating'].isnull().mean())\n",
    "\n",
    "#Código recomendado para imputar con mediana global:\n",
    "median_rating = df['review_scores_rating'].median()\n",
    "df['review_scores_rating'] = df['review_scores_rating'].fillna(median_rating)\n",
    "\n",
    "## Agrupar por barrio, tipo de propiedad y tipo de habitación y rellenar nulos con mediana de cada grupo\n",
    "df['review_scores_rating'] = df.groupby(\n",
    "    ['neighbourhood', 'property_type', 'room_type']\n",
    ")['review_scores_rating'].transform(lambda x: x.fillna(x.median()))\n",
    "\n",
    "# Rellenar cualquier nulo restante con la mediana global\n",
    "median_global = df['review_scores_rating'].median()\n",
    "df['review_scores_rating'] = df['review_scores_rating'].fillna(median_global)\n",
    "\n",
    "# Verificar que no quedan nulos\n",
    "print(\"Nulos restantes en review_scores_rating:\", df['review_scores_rating'].isnull().sum())\n",
    "\n"
   ]
  },
  {
   "cell_type": "code",
   "execution_count": 58,
   "id": "3994ac9e",
   "metadata": {},
   "outputs": [
    {
     "name": "stdout",
     "output_type": "stream",
     "text": [
      "Nulos antes de rellenar: 1553\n",
      "Nulos después de rellenar: 0\n",
      "Valores no válidos en 'last_review': <DatetimeArray>\n",
      "[]\n",
      "Length: 0, dtype: datetime64[ns]\n"
     ]
    }
   ],
   "source": [
    "# Convertir a datetime con errores a NaT (ya hecho)\n",
    "df['last_review'] = pd.to_datetime(df['last_review'], errors='coerce')\n",
    "\n",
    "# Ver cuántos nulos hay\n",
    "print(\"Nulos antes de rellenar:\", df['last_review'].isna().sum())\n",
    "\n",
    "# Calcular fecha mínima válida (excluyendo NaT)\n",
    "min_fecha = df['last_review'].min()\n",
    "\n",
    "# Rellenar nulos con la fecha mínima\n",
    "df['last_review'] = df['last_review'].fillna(min_fecha)\n",
    "\n",
    "# Ver cuántos nulos quedan\n",
    "print(\"Nulos después de rellenar:\", df['last_review'].isna().sum())\n",
    "\n",
    "invalid_dates = df.loc[\n",
    "    pd.to_datetime(df['last_review'], errors='coerce').isna(),\n",
    "    'last_review'\n",
    "].unique()\n",
    "\n",
    "print(\"Valores no válidos en 'last_review':\", invalid_dates)\n"
   ]
  },
  {
   "cell_type": "code",
   "execution_count": 59,
   "id": "a1e7d212",
   "metadata": {},
   "outputs": [
    {
     "name": "stdout",
     "output_type": "stream",
     "text": [
      "Nulos restantes en review_scores_accuracy: 0\n"
     ]
    }
   ],
   "source": [
    "#review_scores_accuracy  -> precisión de las reseñas\n",
    "\n",
    "# Paso 1: Calcular mediana global\n",
    "median_global = df['review_scores_accuracy'].median()\n",
    "\n",
    "# Paso 2: Función que rellena nulos solo si hay datos para ese grupo\n",
    "def fill_group_median(x):\n",
    "    if x.notnull().sum() > 0:\n",
    "        return x.fillna(x.median())\n",
    "    else:\n",
    "        return x\n",
    "\n",
    "df['review_scores_accuracy'] = df.groupby(\n",
    "    ['neighbourhood', 'property_type', 'room_type']\n",
    ")['review_scores_accuracy'].transform(fill_group_median)\n",
    "\n",
    "# Paso 3: Rellenar los nulos restantes con mediana global\n",
    "df['review_scores_accuracy'] = df['review_scores_accuracy'].fillna(median_global)\n",
    "\n",
    "print(\"Nulos restantes en review_scores_accuracy:\", df['review_scores_accuracy'].isnull().sum())\n",
    "\n"
   ]
  },
  {
   "cell_type": "code",
   "execution_count": 60,
   "id": "d228ce2a",
   "metadata": {},
   "outputs": [
    {
     "name": "stdout",
     "output_type": "stream",
     "text": [
      "Nulos restantes en review_scores_cleanliness: 0\n"
     ]
    }
   ],
   "source": [
    "#review_scores_cleanliness -> limpieza de las reseñas\n",
    "\n",
    "median_global = df['review_scores_cleanliness'].median()\n",
    "\n",
    "def fill_group_median(x):\n",
    "    if x.notnull().sum() > 0:\n",
    "        return x.fillna(x.median())\n",
    "    else:\n",
    "        return x\n",
    "\n",
    "df['review_scores_cleanliness'] = df.groupby(\n",
    "    ['neighbourhood', 'property_type', 'room_type']\n",
    ")['review_scores_cleanliness'].transform(fill_group_median)\n",
    "\n",
    "df['review_scores_cleanliness'] = df['review_scores_cleanliness'].fillna(median_global)\n",
    "\n",
    "print(\"Nulos restantes en review_scores_cleanliness:\", df['review_scores_cleanliness'].isnull().sum())\n"
   ]
  },
  {
   "cell_type": "code",
   "execution_count": 61,
   "id": "80db9cbd",
   "metadata": {},
   "outputs": [
    {
     "name": "stdout",
     "output_type": "stream",
     "text": [
      "Nulos restantes en review_scores_checkin: 0\n"
     ]
    }
   ],
   "source": [
    "#review_scores_checkin -> check-in de las reseñas\n",
    "median_global = df['review_scores_checkin'].median()\n",
    "\n",
    "def fill_group_median(x):\n",
    "    if x.notnull().sum() > 0:\n",
    "        return x.fillna(x.median())\n",
    "    else:\n",
    "        return x\n",
    "\n",
    "df['review_scores_checkin'] = df.groupby(\n",
    "    ['neighbourhood', 'property_type', 'room_type']\n",
    ")['review_scores_checkin'].transform(fill_group_median)\n",
    "\n",
    "df['review_scores_checkin'] = df['review_scores_checkin'].fillna(median_global)\n",
    "\n",
    "print(\"Nulos restantes en review_scores_checkin:\", df['review_scores_checkin'].isnull().sum())\n"
   ]
  },
  {
   "cell_type": "code",
   "execution_count": 62,
   "id": "819c7d23",
   "metadata": {},
   "outputs": [
    {
     "name": "stdout",
     "output_type": "stream",
     "text": [
      "Nulos restantes en review_scores_communication: 0\n"
     ]
    }
   ],
   "source": [
    "#review_scores_communication -> comunicación de las reseñas\n",
    "median_global = df['review_scores_communication'].median()\n",
    "\n",
    "def fill_group_median(x):\n",
    "    if x.notnull().sum() > 0:\n",
    "        return x.fillna(x.median())\n",
    "    else:\n",
    "        return x\n",
    "\n",
    "df['review_scores_communication'] = df.groupby(\n",
    "    ['neighbourhood', 'property_type', 'room_type']\n",
    ")['review_scores_communication'].transform(fill_group_median)\n",
    "\n",
    "df['review_scores_communication'] = df['review_scores_communication'].fillna(median_global)\n",
    "\n",
    "print(\"Nulos restantes en review_scores_communication:\", df['review_scores_communication'].isnull().sum())\n"
   ]
  },
  {
   "cell_type": "code",
   "execution_count": 63,
   "id": "36f11348",
   "metadata": {},
   "outputs": [
    {
     "name": "stdout",
     "output_type": "stream",
     "text": [
      "Nulos restantes en review_scores_location: 0\n"
     ]
    }
   ],
   "source": [
    "#review_scores_location -> ubicación de las reseñas\n",
    "median_global = df['review_scores_location'].median()\n",
    "\n",
    "def fill_group_median(x):\n",
    "    if x.notnull().sum() > 0:\n",
    "        return x.fillna(x.median())\n",
    "    else:\n",
    "        return x\n",
    "\n",
    "df['review_scores_location'] = df.groupby(['neighbourhood', 'property_type'])['review_scores_location'].transform(fill_group_median)\n",
    "\n",
    "df['review_scores_location'] = df['review_scores_location'].fillna(median_global)\n",
    "\n",
    "print(\"Nulos restantes en review_scores_location:\", df['review_scores_location'].isnull().sum())\n"
   ]
  },
  {
   "cell_type": "code",
   "execution_count": 64,
   "id": "29c3e1ee",
   "metadata": {},
   "outputs": [
    {
     "name": "stdout",
     "output_type": "stream",
     "text": [
      "Nulos restantes en review_scores_value: 0\n"
     ]
    }
   ],
   "source": [
    "#review_scores_value -> valor de las reseñas\n",
    "median_global = df['review_scores_value'].median()\n",
    "\n",
    "def fill_group_median(x):\n",
    "    if x.notnull().sum() > 0:\n",
    "        return x.fillna(x.median())\n",
    "    else:\n",
    "        return x\n",
    "\n",
    "df['review_scores_value'] = df.groupby(['property_type', 'room_type', 'neighbourhood'])['review_scores_value'].transform(fill_group_median)\n",
    "\n",
    "df['review_scores_value'] = df['review_scores_value'].fillna(median_global)\n",
    "\n",
    "print(\"Nulos restantes en review_scores_value:\", df['review_scores_value'].isnull().sum())\n"
   ]
  },
  {
   "cell_type": "code",
   "execution_count": 65,
   "id": "5f6fd96e",
   "metadata": {},
   "outputs": [
    {
     "name": "stdout",
     "output_type": "stream",
     "text": [
      "Nulos restantes en reviews_per_month: 0\n"
     ]
    }
   ],
   "source": [
    "#reviews_per_month -> reseñas por mes\n",
    "median_global = df['reviews_per_month'].median()\n",
    "\n",
    "def fill_group_median(x):\n",
    "    if x.notnull().sum() > 0:\n",
    "        return x.fillna(x.median())\n",
    "    else:\n",
    "        return x\n",
    "\n",
    "# Agrupamos por 'number_of_reviews' y 'room_type' (puedes agregar más variables si quieres)\n",
    "df['reviews_per_month'] = df.groupby(['number_of_reviews', 'room_type'])['reviews_per_month'].transform(fill_group_median)\n",
    "\n",
    "# Rellenar cualquier nulo restante con la mediana global\n",
    "df['reviews_per_month'] = df['reviews_per_month'].fillna(median_global)\n",
    "\n",
    "print(\"Nulos restantes en reviews_per_month:\", df['reviews_per_month'].isnull().sum())\n"
   ]
  },
  {
   "cell_type": "code",
   "execution_count": 66,
   "id": "e2eefdc9",
   "metadata": {},
   "outputs": [],
   "source": [
    "from scipy.stats import zscore\n",
    "\n",
    "# --- LIMPIEZA ROBUSTA DE OUTLIERS ---\n",
    "\n",
    "\n",
    "# 1. Verificar columnas necesarias\n",
    "columnas_obligatorias = ['price', 'minimum_nights', 'maximum_nights']\n",
    "for col in columnas_obligatorias:\n",
    "    if col not in df.columns:\n",
    "        raise ValueError(f\"Falta la columna obligatoria: {col}\")\n",
    "\n",
    "# 2. Limpiar y convertir 'price' a numérico (ya hecho antes, pero aseguramos)\n",
    "df['price'] = pd.to_numeric(df['price'], errors='coerce')\n",
    "\n",
    "# 3. Eliminar filas con valores nulos en columnas clave\n",
    "df = df.dropna(subset=['price', 'minimum_nights', 'maximum_nights'])\n",
    "\n",
    "# 4. Definir columnas numéricas a limpiar de outliers\n",
    "cols_outliers = ['price', 'minimum_nights', 'maximum_nights', 'accommodates', 'number_of_reviews', 'reviews_per_month', 'bathrooms', 'bedrooms', 'beds']\n",
    "\n",
    "for col in cols_outliers:\n",
    "    if col in df.columns:\n",
    "        Q1 = df[col].quantile(0.25)\n",
    "        Q3 = df[col].quantile(0.75)\n",
    "        IQR = Q3 - Q1\n",
    "        lower = Q1 - 1.5 * IQR\n",
    "        upper = Q3 + 1.5 * IQR\n",
    "        df = df[(df[col] >= lower) & (df[col] <= upper)]\n",
    "\n",
    "\n",
    "\n",
    "# 6. Resetear el índice tras eliminar filas\n",
    "df = df.reset_index(drop=True)\n"
   ]
  },
  {
   "cell_type": "code",
   "execution_count": 67,
   "id": "f3ae33a1",
   "metadata": {},
   "outputs": [
    {
     "data": {
      "image/png": "[encoded data removed]",
      "text/plain": [
       "<Figure size 1500x400 with 3 Axes>"
      ]
     },
     "metadata": {},
     "output_type": "display_data"
    }
   ],
   "source": [
    "#Boxplot outliers\n",
    "\n",
    "\n",
    "plt.figure(figsize=(15, 4))\n",
    "\n",
    "for i, col in enumerate(['price', 'bathrooms', 'accommodates']):\n",
    "    plt.subplot(1, 3, i+1)\n",
    "    sns.boxplot(x=df[col])\n",
    "    plt.title(col)\n",
    "\n",
    "plt.tight_layout()\n",
    "plt.show()"
   ]
  },
  {
   "cell_type": "code",
   "execution_count": 68,
   "id": "9f73de19",
   "metadata": {},
   "outputs": [
    {
     "data": {
      "text/plain": [
       "id                                              0\n",
       "listing_url                                     0\n",
       "scrape_id                                       0\n",
       "last_scraped                                    0\n",
       "source                                          0\n",
       "name                                            0\n",
       "description                                     0\n",
       "neighborhood_overview                           0\n",
       "picture_url                                     0\n",
       "host_id                                         0\n",
       "host_url                                        0\n",
       "host_name                                       0\n",
       "host_since                                      0\n",
       "host_location                                   0\n",
       "host_about                                      0\n",
       "host_response_time                              0\n",
       "host_response_rate                              0\n",
       "host_acceptance_rate                            0\n",
       "host_is_superhost                               0\n",
       "host_thumbnail_url                              0\n",
       "host_picture_url                                0\n",
       "host_neighbourhood                              0\n",
       "host_listings_count                             0\n",
       "host_total_listings_count                       0\n",
       "host_verifications                              0\n",
       "host_has_profile_pic                            0\n",
       "host_identity_verified                          0\n",
       "neighbourhood                                   0\n",
       "neighbourhood_group                             0\n",
       "latitude                                        0\n",
       "longitude                                       0\n",
       "property_type                                   0\n",
       "room_type                                       0\n",
       "accommodates                                    0\n",
       "bathrooms                                       0\n",
       "bathrooms_text                                  0\n",
       "bedrooms                                        0\n",
       "beds                                            0\n",
       "amenities                                       0\n",
       "price                                           0\n",
       "minimum_nights                                  0\n",
       "maximum_nights                                  0\n",
       "minimum_minimum_nights                          0\n",
       "maximum_minimum_nights                          0\n",
       "minimum_maximum_nights                          0\n",
       "maximum_maximum_nights                          0\n",
       "minimum_nights_avg_ntm                          0\n",
       "maximum_nights_avg_ntm                          0\n",
       "calendar_updated                                0\n",
       "has_availability                                0\n",
       "availability_30                                 0\n",
       "availability_60                                 0\n",
       "availability_90                                 0\n",
       "availability_365                                0\n",
       "calendar_last_scraped                           0\n",
       "number_of_reviews                               0\n",
       "number_of_reviews_ltm                           0\n",
       "number_of_reviews_l30d                          0\n",
       "availability_eoy                                0\n",
       "number_of_reviews_ly                            0\n",
       "estimated_occupancy_l365d                       0\n",
       "estimated_revenue_l365d                         0\n",
       "first_review                                    0\n",
       "last_review                                     0\n",
       "review_scores_rating                            0\n",
       "review_scores_accuracy                          0\n",
       "review_scores_cleanliness                       0\n",
       "review_scores_checkin                           0\n",
       "review_scores_communication                     0\n",
       "review_scores_location                          0\n",
       "review_scores_value                             0\n",
       "license                                         0\n",
       "instant_bookable                                0\n",
       "calculated_host_listings_count                  0\n",
       "calculated_host_listings_count_entire_homes     0\n",
       "calculated_host_listings_count_private_rooms    0\n",
       "calculated_host_listings_count_shared_rooms     0\n",
       "reviews_per_month                               0\n",
       "city                                            0\n",
       "days_rented                                     0\n",
       "dtype: int64"
      ]
     },
     "execution_count": 68,
     "metadata": {},
     "output_type": "execute_result"
    }
   ],
   "source": [
    "df.isnull().sum()  # Revisa nuevamente si hay valores nulos"
   ]
  },
  {
   "cell_type": "code",
   "execution_count": 69,
   "id": "c4aabc8e",
   "metadata": {},
   "outputs": [
    {
     "data": {
      "text/plain": [
       "<Axes: >"
      ]
     },
     "execution_count": 69,
     "metadata": {},
     "output_type": "execute_result"
    },
    {
     "data": {
      "image/png": "[encoded data removed]",
      "text/plain": [
       "<Figure size 640x480 with 1 Axes>"
      ]
     },
     "metadata": {},
     "output_type": "display_data"
    }
   ],
   "source": [
    "sns.heatmap(df.isnull(), cbar=False, cmap='viridis') #visualiza los valores nulos"
   ]
  },
  {
   "cell_type": "code",
   "execution_count": 70,
   "id": "54fbbde0",
   "metadata": {},
   "outputs": [],
   "source": [
    "df_limpio_valencia = df.copy()"
   ]
  },
  {
   "cell_type": "code",
   "execution_count": 71,
   "id": "2ac880d5",
   "metadata": {},
   "outputs": [],
   "source": [
    "#guardamos\n",
    "df_limpio_valencia.to_csv(r\"..\\data\\Valencia_limpio.csv\", index=False)"
   ]
  }
 ],
 "metadata": {
  "kernelspec": {
   "display_name": "Python 3",
   "language": "python",
   "name": "python3"
  },
  "language_info": {
   "codemirror_mode": {
    "name": "ipython",
    "version": 3
   },
   "file_extension": ".py",
   "mimetype": "text/x-python",
   "name": "python",
   "nbconvert_exporter": "python",
   "pygments_lexer": "ipython3",
   "version": "3.13.1"
  }
 },
 "nbformat": 4,
 "nbformat_minor": 5
}
