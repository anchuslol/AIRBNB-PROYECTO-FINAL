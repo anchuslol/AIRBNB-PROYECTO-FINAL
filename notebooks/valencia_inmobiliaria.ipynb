{
 "cells": [
  {
   "cell_type": "code",
   "execution_count": 1,
   "id": "252185c8",
   "metadata": {},
   "outputs": [],
   "source": [
    "import pandas as pd\n",
    "import warnings\n",
    "warnings.simplefilter(action='ignore', category=FutureWarning)"
   ]
  },
  {
   "cell_type": "code",
   "execution_count": 2,
   "id": "4c9833af",
   "metadata": {},
   "outputs": [
    {
     "name": "stdout",
     "output_type": "stream",
     "text": [
      "c:\\Users\\rey_d\\Documents\\GitHub\\An-lisis-de-inversion-inmobiliario\\notebooks\n"
     ]
    }
   ],
   "source": [
    "import os\n",
    "print(os.getcwd())  # Esto imprime el directorio actual"
   ]
  },
  {
   "cell_type": "code",
   "execution_count": 3,
   "id": "9a08364e",
   "metadata": {},
   "outputs": [
    {
     "name": "stdout",
     "output_type": "stream",
     "text": [
      "Directorio actual: c:\\Users\\rey_d\\Documents\\GitHub\\An-lisis-de-inversion-inmobiliario\n"
     ]
    }
   ],
   "source": [
    "import os\n",
    "\n",
    "# Cambiar el directorio de trabajo al nivel superior\n",
    "os.chdir('..')\n",
    "\n",
    "# Verificar dónde estás ahora\n",
    "print(\"Directorio actual:\", os.getcwd())"
   ]
  },
  {
   "cell_type": "code",
   "execution_count": 4,
   "id": "b3d9096d",
   "metadata": {},
   "outputs": [],
   "source": [
    "df = pd.read_csv(r'data\\valencia_vivienda_limpiocopy.csv', sep=';')"
   ]
  },
  {
   "cell_type": "code",
   "execution_count": 5,
   "id": "509a66ca",
   "metadata": {},
   "outputs": [],
   "source": [
    "#añadimos columna city\n",
    "df['city'] = 'Valencia'\n",
    "\n"
   ]
  },
  {
   "cell_type": "code",
   "execution_count": 6,
   "id": "b968db10",
   "metadata": {},
   "outputs": [
    {
     "data": {
      "text/html": [
       "<div>\n",
       "<style scoped>\n",
       "    .dataframe tbody tr th:only-of-type {\n",
       "        vertical-align: middle;\n",
       "    }\n",
       "\n",
       "    .dataframe tbody tr th {\n",
       "        vertical-align: top;\n",
       "    }\n",
       "\n",
       "    .dataframe thead th {\n",
       "        text-align: right;\n",
       "    }\n",
       "</style>\n",
       "<table border=\"1\" class=\"dataframe\">\n",
       "  <thead>\n",
       "    <tr style=\"text-align: right;\">\n",
       "      <th></th>\n",
       "      <th>neighbourhood</th>\n",
       "      <th>precio</th>\n",
       "      <th>city</th>\n",
       "    </tr>\n",
       "  </thead>\n",
       "  <tbody>\n",
       "    <tr>\n",
       "      <th>0</th>\n",
       "      <td>RUSSAFA</td>\n",
       "      <td>3900.0</td>\n",
       "      <td>Valencia</td>\n",
       "    </tr>\n",
       "    <tr>\n",
       "      <th>1</th>\n",
       "      <td>CABANYAL-CANYAMELAR</td>\n",
       "      <td>2100.0</td>\n",
       "      <td>Valencia</td>\n",
       "    </tr>\n",
       "    <tr>\n",
       "      <th>2</th>\n",
       "      <td>EL GRAU</td>\n",
       "      <td>2300.0</td>\n",
       "      <td>Valencia</td>\n",
       "    </tr>\n",
       "    <tr>\n",
       "      <th>3</th>\n",
       "      <td>ARRANCAPINS</td>\n",
       "      <td>3100.0</td>\n",
       "      <td>Valencia</td>\n",
       "    </tr>\n",
       "    <tr>\n",
       "      <th>4</th>\n",
       "      <td>SANT FRANCESC</td>\n",
       "      <td>3900.0</td>\n",
       "      <td>Valencia</td>\n",
       "    </tr>\n",
       "  </tbody>\n",
       "</table>\n",
       "</div>"
      ],
      "text/plain": [
       "         neighbourhood  precio      city\n",
       "0              RUSSAFA  3900.0  Valencia\n",
       "1  CABANYAL-CANYAMELAR  2100.0  Valencia\n",
       "2              EL GRAU  2300.0  Valencia\n",
       "3          ARRANCAPINS  3100.0  Valencia\n",
       "4        SANT FRANCESC  3900.0  Valencia"
      ]
     },
     "execution_count": 6,
     "metadata": {},
     "output_type": "execute_result"
    }
   ],
   "source": [
    "df.head()"
   ]
  },
  {
   "cell_type": "code",
   "execution_count": 7,
   "id": "785ca4f8",
   "metadata": {},
   "outputs": [
    {
     "data": {
      "text/plain": [
       "Index(['neighbourhood', 'precio', 'city'], dtype='object')"
      ]
     },
     "execution_count": 7,
     "metadata": {},
     "output_type": "execute_result"
    }
   ],
   "source": [
    "df.columns"
   ]
  },
  {
   "cell_type": "code",
   "execution_count": 8,
   "id": "f8b035fb",
   "metadata": {},
   "outputs": [
    {
     "data": {
      "text/plain": [
       "neighbourhood     object\n",
       "precio           float64\n",
       "city              object\n",
       "dtype: object"
      ]
     },
     "execution_count": 8,
     "metadata": {},
     "output_type": "execute_result"
    }
   ],
   "source": [
    "# lo primero que podemos comprobar es el tipo de dato de cada columna\n",
    "df.dtypes"
   ]
  },
  {
   "cell_type": "code",
   "execution_count": 9,
   "id": "002249dc",
   "metadata": {},
   "outputs": [],
   "source": [
    "#Convertir la columna a tipo numérico Valencia\n",
    "\n",
    "# 1. Asegúrate de que es string (por si hay números ya)\n",
    "df['precio'] = df['precio'].astype(str)\n",
    "\n",
    "# 2. Elimina los puntos de miles y reemplaza la coma decimal por punto\n",
    "df['precio'] = df['precio'].str.replace('.', '', regex=False)  # quita miles\n",
    "df['precio'] = df['precio'].str.replace(',', '.', regex=False)  # cambia decimal\n",
    "\n",
    "# 3. Convierte a número\n",
    "df['precio'] = pd.to_numeric(df['precio'], errors='coerce')\n",
    "# 4. Redondea a 2 decimales\n",
    "df['precio'] = df['precio'].round(2)"
   ]
  },
  {
   "cell_type": "code",
   "execution_count": 10,
   "id": "548d9990",
   "metadata": {},
   "outputs": [
    {
     "data": {
      "text/plain": [
       "np.int64(0)"
      ]
     },
     "execution_count": 10,
     "metadata": {},
     "output_type": "execute_result"
    }
   ],
   "source": [
    "df.duplicated().sum()  # Comprobamos si hay filas duplicadas"
   ]
  },
  {
   "cell_type": "code",
   "execution_count": 11,
   "id": "1c88176b",
   "metadata": {},
   "outputs": [
    {
     "data": {
      "text/plain": [
       "neighbourhood    0\n",
       "precio           0\n",
       "city             0\n",
       "dtype: int64"
      ]
     },
     "execution_count": 11,
     "metadata": {},
     "output_type": "execute_result"
    }
   ],
   "source": [
    "df.isnull().sum()  # Comprobamos si hay valores nulos en cada columna"
   ]
  },
  {
   "cell_type": "code",
   "execution_count": 12,
   "id": "4dbaebb6",
   "metadata": {},
   "outputs": [
    {
     "data": {
      "text/plain": [
       "neighbourhood    0.0\n",
       "precio           0.0\n",
       "city             0.0\n",
       "dtype: float64"
      ]
     },
     "execution_count": 12,
     "metadata": {},
     "output_type": "execute_result"
    }
   ],
   "source": [
    "df.isnull().sum() / 100  # Porcentaje de valores nulos en cada columna"
   ]
  },
  {
   "cell_type": "code",
   "execution_count": 13,
   "id": "ae771d9b",
   "metadata": {},
   "outputs": [
    {
     "data": {
      "text/plain": [
       "neighbourhood    0\n",
       "precio           0\n",
       "city             0\n",
       "dtype: int64"
      ]
     },
     "execution_count": 13,
     "metadata": {},
     "output_type": "execute_result"
    }
   ],
   "source": [
    "df.isnull().sum()  # Comprobamos si hay valores nulos en cada columna"
   ]
  },
  {
   "cell_type": "code",
   "execution_count": 14,
   "id": "ad6a35a3",
   "metadata": {},
   "outputs": [
    {
     "data": {
      "text/html": [
       "<div>\n",
       "<style scoped>\n",
       "    .dataframe tbody tr th:only-of-type {\n",
       "        vertical-align: middle;\n",
       "    }\n",
       "\n",
       "    .dataframe tbody tr th {\n",
       "        vertical-align: top;\n",
       "    }\n",
       "\n",
       "    .dataframe thead th {\n",
       "        text-align: right;\n",
       "    }\n",
       "</style>\n",
       "<table border=\"1\" class=\"dataframe\">\n",
       "  <thead>\n",
       "    <tr style=\"text-align: right;\">\n",
       "      <th></th>\n",
       "      <th>neighbourhood</th>\n",
       "      <th>precio</th>\n",
       "      <th>city</th>\n",
       "    </tr>\n",
       "  </thead>\n",
       "  <tbody>\n",
       "    <tr>\n",
       "      <th>0</th>\n",
       "      <td>RUSSAFA</td>\n",
       "      <td>39000</td>\n",
       "      <td>Valencia</td>\n",
       "    </tr>\n",
       "    <tr>\n",
       "      <th>1</th>\n",
       "      <td>CABANYAL-CANYAMELAR</td>\n",
       "      <td>21000</td>\n",
       "      <td>Valencia</td>\n",
       "    </tr>\n",
       "    <tr>\n",
       "      <th>2</th>\n",
       "      <td>EL GRAU</td>\n",
       "      <td>23000</td>\n",
       "      <td>Valencia</td>\n",
       "    </tr>\n",
       "    <tr>\n",
       "      <th>3</th>\n",
       "      <td>ARRANCAPINS</td>\n",
       "      <td>31000</td>\n",
       "      <td>Valencia</td>\n",
       "    </tr>\n",
       "    <tr>\n",
       "      <th>4</th>\n",
       "      <td>SANT FRANCESC</td>\n",
       "      <td>39000</td>\n",
       "      <td>Valencia</td>\n",
       "    </tr>\n",
       "  </tbody>\n",
       "</table>\n",
       "</div>"
      ],
      "text/plain": [
       "         neighbourhood  precio      city\n",
       "0              RUSSAFA   39000  Valencia\n",
       "1  CABANYAL-CANYAMELAR   21000  Valencia\n",
       "2              EL GRAU   23000  Valencia\n",
       "3          ARRANCAPINS   31000  Valencia\n",
       "4        SANT FRANCESC   39000  Valencia"
      ]
     },
     "execution_count": 14,
     "metadata": {},
     "output_type": "execute_result"
    }
   ],
   "source": [
    "df.head()"
   ]
  },
  {
   "cell_type": "code",
   "execution_count": 15,
   "id": "0a5294a2",
   "metadata": {},
   "outputs": [],
   "source": [
    "df_limpio_valencia_vivienda = df.copy()"
   ]
  },
  {
   "cell_type": "code",
   "execution_count": 16,
   "id": "873f97cb",
   "metadata": {},
   "outputs": [],
   "source": [
    "#guardamos\n",
    "df_limpio_valencia_vivienda.to_csv(r\"data\\valencia_vivienda_limpio.csv\", index=False)"
   ]
  }
 ],
 "metadata": {
  "kernelspec": {
   "display_name": "Python 3",
   "language": "python",
   "name": "python3"
  },
  "language_info": {
   "codemirror_mode": {
    "name": "ipython",
    "version": 3
   },
   "file_extension": ".py",
   "mimetype": "text/x-python",
   "name": "python",
   "nbconvert_exporter": "python",
   "pygments_lexer": "ipython3",
   "version": "3.13.1"
  }
 },
 "nbformat": 4,
 "nbformat_minor": 5
}
